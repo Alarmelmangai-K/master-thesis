{
  "nbformat": 4,
  "nbformat_minor": 0,
  "metadata": {
    "colab": {
      "provenance": [],
      "authorship_tag": "ABX9TyMiU0elckGHFSk1RM29XFeE",
      "include_colab_link": true
    },
    "kernelspec": {
      "name": "python3",
      "display_name": "Python 3"
    },
    "language_info": {
      "name": "python"
    }
  },
  "cells": [
    {
      "cell_type": "markdown",
      "metadata": {
        "id": "view-in-github",
        "colab_type": "text"
      },
      "source": [
        "<a href=\"https://colab.research.google.com/github/Alarmelmangai-K/master-thesis/blob/main/Multiclass_FSI.ipynb\" target=\"_parent\"><img src=\"https://colab.research.google.com/assets/colab-badge.svg\" alt=\"Open In Colab\"/></a>"
      ]
    },
    {
      "cell_type": "code",
      "execution_count": null,
      "metadata": {
        "colab": {
          "base_uri": "https://localhost:8080/"
        },
        "id": "xefJpMtk5lKn",
        "outputId": "9b23cd4e-a909-4856-9c63-4c69cf50a285"
      },
      "outputs": [
        {
          "output_type": "stream",
          "name": "stdout",
          "text": [
            "Requirement already satisfied: xgboost in /usr/local/lib/python3.12/dist-packages (3.0.5)\n",
            "Requirement already satisfied: numpy in /usr/local/lib/python3.12/dist-packages (from xgboost) (2.0.2)\n",
            "Requirement already satisfied: nvidia-nccl-cu12 in /usr/local/lib/python3.12/dist-packages (from xgboost) (2.27.3)\n",
            "Requirement already satisfied: scipy in /usr/local/lib/python3.12/dist-packages (from xgboost) (1.16.1)\n",
            "Requirement already satisfied: shap in /usr/local/lib/python3.12/dist-packages (0.48.0)\n",
            "Requirement already satisfied: numpy in /usr/local/lib/python3.12/dist-packages (from shap) (2.0.2)\n",
            "Requirement already satisfied: scipy in /usr/local/lib/python3.12/dist-packages (from shap) (1.16.1)\n",
            "Requirement already satisfied: scikit-learn in /usr/local/lib/python3.12/dist-packages (from shap) (1.6.1)\n",
            "Requirement already satisfied: pandas in /usr/local/lib/python3.12/dist-packages (from shap) (2.2.2)\n",
            "Requirement already satisfied: tqdm>=4.27.0 in /usr/local/lib/python3.12/dist-packages (from shap) (4.67.1)\n",
            "Requirement already satisfied: packaging>20.9 in /usr/local/lib/python3.12/dist-packages (from shap) (25.0)\n",
            "Requirement already satisfied: slicer==0.0.8 in /usr/local/lib/python3.12/dist-packages (from shap) (0.0.8)\n",
            "Requirement already satisfied: numba>=0.54 in /usr/local/lib/python3.12/dist-packages (from shap) (0.60.0)\n",
            "Requirement already satisfied: cloudpickle in /usr/local/lib/python3.12/dist-packages (from shap) (3.1.1)\n",
            "Requirement already satisfied: typing-extensions in /usr/local/lib/python3.12/dist-packages (from shap) (4.15.0)\n",
            "Requirement already satisfied: llvmlite<0.44,>=0.43.0dev0 in /usr/local/lib/python3.12/dist-packages (from numba>=0.54->shap) (0.43.0)\n",
            "Requirement already satisfied: python-dateutil>=2.8.2 in /usr/local/lib/python3.12/dist-packages (from pandas->shap) (2.9.0.post0)\n",
            "Requirement already satisfied: pytz>=2020.1 in /usr/local/lib/python3.12/dist-packages (from pandas->shap) (2025.2)\n",
            "Requirement already satisfied: tzdata>=2022.7 in /usr/local/lib/python3.12/dist-packages (from pandas->shap) (2025.2)\n",
            "Requirement already satisfied: joblib>=1.2.0 in /usr/local/lib/python3.12/dist-packages (from scikit-learn->shap) (1.5.2)\n",
            "Requirement already satisfied: threadpoolctl>=3.1.0 in /usr/local/lib/python3.12/dist-packages (from scikit-learn->shap) (3.6.0)\n",
            "Requirement already satisfied: six>=1.5 in /usr/local/lib/python3.12/dist-packages (from python-dateutil>=2.8.2->pandas->shap) (1.17.0)\n",
            "Collecting lime\n",
            "  Downloading lime-0.2.0.1.tar.gz (275 kB)\n",
            "\u001b[2K     \u001b[90m━━━━━━━━━━━━━━━━━━━━━━━━━━━━━━━━━━━━━━━\u001b[0m \u001b[32m275.7/275.7 kB\u001b[0m \u001b[31m5.3 MB/s\u001b[0m eta \u001b[36m0:00:00\u001b[0m\n",
            "\u001b[?25h  Preparing metadata (setup.py) ... \u001b[?25l\u001b[?25hdone\n",
            "Requirement already satisfied: matplotlib in /usr/local/lib/python3.12/dist-packages (from lime) (3.10.0)\n",
            "Requirement already satisfied: numpy in /usr/local/lib/python3.12/dist-packages (from lime) (2.0.2)\n",
            "Requirement already satisfied: scipy in /usr/local/lib/python3.12/dist-packages (from lime) (1.16.1)\n",
            "Requirement already satisfied: tqdm in /usr/local/lib/python3.12/dist-packages (from lime) (4.67.1)\n",
            "Requirement already satisfied: scikit-learn>=0.18 in /usr/local/lib/python3.12/dist-packages (from lime) (1.6.1)\n",
            "Requirement already satisfied: scikit-image>=0.12 in /usr/local/lib/python3.12/dist-packages (from lime) (0.25.2)\n",
            "Requirement already satisfied: networkx>=3.0 in /usr/local/lib/python3.12/dist-packages (from scikit-image>=0.12->lime) (3.5)\n",
            "Requirement already satisfied: pillow>=10.1 in /usr/local/lib/python3.12/dist-packages (from scikit-image>=0.12->lime) (11.3.0)\n",
            "Requirement already satisfied: imageio!=2.35.0,>=2.33 in /usr/local/lib/python3.12/dist-packages (from scikit-image>=0.12->lime) (2.37.0)\n",
            "Requirement already satisfied: tifffile>=2022.8.12 in /usr/local/lib/python3.12/dist-packages (from scikit-image>=0.12->lime) (2025.8.28)\n",
            "Requirement already satisfied: packaging>=21 in /usr/local/lib/python3.12/dist-packages (from scikit-image>=0.12->lime) (25.0)\n",
            "Requirement already satisfied: lazy-loader>=0.4 in /usr/local/lib/python3.12/dist-packages (from scikit-image>=0.12->lime) (0.4)\n",
            "Requirement already satisfied: joblib>=1.2.0 in /usr/local/lib/python3.12/dist-packages (from scikit-learn>=0.18->lime) (1.5.2)\n",
            "Requirement already satisfied: threadpoolctl>=3.1.0 in /usr/local/lib/python3.12/dist-packages (from scikit-learn>=0.18->lime) (3.6.0)\n",
            "Requirement already satisfied: contourpy>=1.0.1 in /usr/local/lib/python3.12/dist-packages (from matplotlib->lime) (1.3.3)\n",
            "Requirement already satisfied: cycler>=0.10 in /usr/local/lib/python3.12/dist-packages (from matplotlib->lime) (0.12.1)\n",
            "Requirement already satisfied: fonttools>=4.22.0 in /usr/local/lib/python3.12/dist-packages (from matplotlib->lime) (4.59.2)\n",
            "Requirement already satisfied: kiwisolver>=1.3.1 in /usr/local/lib/python3.12/dist-packages (from matplotlib->lime) (1.4.9)\n",
            "Requirement already satisfied: pyparsing>=2.3.1 in /usr/local/lib/python3.12/dist-packages (from matplotlib->lime) (3.2.3)\n",
            "Requirement already satisfied: python-dateutil>=2.7 in /usr/local/lib/python3.12/dist-packages (from matplotlib->lime) (2.9.0.post0)\n",
            "Requirement already satisfied: six>=1.5 in /usr/local/lib/python3.12/dist-packages (from python-dateutil>=2.7->matplotlib->lime) (1.17.0)\n",
            "Building wheels for collected packages: lime\n",
            "  Building wheel for lime (setup.py) ... \u001b[?25l\u001b[?25hdone\n",
            "  Created wheel for lime: filename=lime-0.2.0.1-py3-none-any.whl size=283834 sha256=5a73a65f1d9bc8a2d8361ab904015e1635e09b297f7a02ea6c9510cd978c5efd\n",
            "  Stored in directory: /root/.cache/pip/wheels/e7/5d/0e/4b4fff9a47468fed5633211fb3b76d1db43fe806a17fb7486a\n",
            "Successfully built lime\n",
            "Installing collected packages: lime\n",
            "Successfully installed lime-0.2.0.1\n",
            "Collecting catboost\n",
            "  Downloading catboost-1.2.8-cp312-cp312-manylinux2014_x86_64.whl.metadata (1.2 kB)\n",
            "Requirement already satisfied: graphviz in /usr/local/lib/python3.12/dist-packages (from catboost) (0.21)\n",
            "Requirement already satisfied: matplotlib in /usr/local/lib/python3.12/dist-packages (from catboost) (3.10.0)\n",
            "Requirement already satisfied: numpy<3.0,>=1.16.0 in /usr/local/lib/python3.12/dist-packages (from catboost) (2.0.2)\n",
            "Requirement already satisfied: pandas>=0.24 in /usr/local/lib/python3.12/dist-packages (from catboost) (2.2.2)\n",
            "Requirement already satisfied: scipy in /usr/local/lib/python3.12/dist-packages (from catboost) (1.16.1)\n",
            "Requirement already satisfied: plotly in /usr/local/lib/python3.12/dist-packages (from catboost) (5.24.1)\n",
            "Requirement already satisfied: six in /usr/local/lib/python3.12/dist-packages (from catboost) (1.17.0)\n",
            "Requirement already satisfied: python-dateutil>=2.8.2 in /usr/local/lib/python3.12/dist-packages (from pandas>=0.24->catboost) (2.9.0.post0)\n",
            "Requirement already satisfied: pytz>=2020.1 in /usr/local/lib/python3.12/dist-packages (from pandas>=0.24->catboost) (2025.2)\n",
            "Requirement already satisfied: tzdata>=2022.7 in /usr/local/lib/python3.12/dist-packages (from pandas>=0.24->catboost) (2025.2)\n",
            "Requirement already satisfied: contourpy>=1.0.1 in /usr/local/lib/python3.12/dist-packages (from matplotlib->catboost) (1.3.3)\n",
            "Requirement already satisfied: cycler>=0.10 in /usr/local/lib/python3.12/dist-packages (from matplotlib->catboost) (0.12.1)\n",
            "Requirement already satisfied: fonttools>=4.22.0 in /usr/local/lib/python3.12/dist-packages (from matplotlib->catboost) (4.59.2)\n",
            "Requirement already satisfied: kiwisolver>=1.3.1 in /usr/local/lib/python3.12/dist-packages (from matplotlib->catboost) (1.4.9)\n",
            "Requirement already satisfied: packaging>=20.0 in /usr/local/lib/python3.12/dist-packages (from matplotlib->catboost) (25.0)\n",
            "Requirement already satisfied: pillow>=8 in /usr/local/lib/python3.12/dist-packages (from matplotlib->catboost) (11.3.0)\n",
            "Requirement already satisfied: pyparsing>=2.3.1 in /usr/local/lib/python3.12/dist-packages (from matplotlib->catboost) (3.2.3)\n",
            "Requirement already satisfied: tenacity>=6.2.0 in /usr/local/lib/python3.12/dist-packages (from plotly->catboost) (8.5.0)\n",
            "Downloading catboost-1.2.8-cp312-cp312-manylinux2014_x86_64.whl (99.2 MB)\n",
            "\u001b[2K   \u001b[90m━━━━━━━━━━━━━━━━━━━━━━━━━━━━━━━━━━━━━━━━\u001b[0m \u001b[32m99.2/99.2 MB\u001b[0m \u001b[31m5.7 MB/s\u001b[0m eta \u001b[36m0:00:00\u001b[0m\n",
            "\u001b[?25hInstalling collected packages: catboost\n",
            "Successfully installed catboost-1.2.8\n",
            "Requirement already satisfied: shap in /usr/local/lib/python3.12/dist-packages (0.48.0)\n",
            "Requirement already satisfied: numpy in /usr/local/lib/python3.12/dist-packages (from shap) (2.0.2)\n",
            "Requirement already satisfied: scipy in /usr/local/lib/python3.12/dist-packages (from shap) (1.16.1)\n",
            "Requirement already satisfied: scikit-learn in /usr/local/lib/python3.12/dist-packages (from shap) (1.6.1)\n",
            "Requirement already satisfied: pandas in /usr/local/lib/python3.12/dist-packages (from shap) (2.2.2)\n",
            "Requirement already satisfied: tqdm>=4.27.0 in /usr/local/lib/python3.12/dist-packages (from shap) (4.67.1)\n",
            "Requirement already satisfied: packaging>20.9 in /usr/local/lib/python3.12/dist-packages (from shap) (25.0)\n",
            "Requirement already satisfied: slicer==0.0.8 in /usr/local/lib/python3.12/dist-packages (from shap) (0.0.8)\n",
            "Requirement already satisfied: numba>=0.54 in /usr/local/lib/python3.12/dist-packages (from shap) (0.60.0)\n",
            "Requirement already satisfied: cloudpickle in /usr/local/lib/python3.12/dist-packages (from shap) (3.1.1)\n",
            "Requirement already satisfied: typing-extensions in /usr/local/lib/python3.12/dist-packages (from shap) (4.15.0)\n",
            "Requirement already satisfied: llvmlite<0.44,>=0.43.0dev0 in /usr/local/lib/python3.12/dist-packages (from numba>=0.54->shap) (0.43.0)\n",
            "Requirement already satisfied: python-dateutil>=2.8.2 in /usr/local/lib/python3.12/dist-packages (from pandas->shap) (2.9.0.post0)\n",
            "Requirement already satisfied: pytz>=2020.1 in /usr/local/lib/python3.12/dist-packages (from pandas->shap) (2025.2)\n",
            "Requirement already satisfied: tzdata>=2022.7 in /usr/local/lib/python3.12/dist-packages (from pandas->shap) (2025.2)\n",
            "Requirement already satisfied: joblib>=1.2.0 in /usr/local/lib/python3.12/dist-packages (from scikit-learn->shap) (1.5.2)\n",
            "Requirement already satisfied: threadpoolctl>=3.1.0 in /usr/local/lib/python3.12/dist-packages (from scikit-learn->shap) (3.6.0)\n",
            "Requirement already satisfied: six>=1.5 in /usr/local/lib/python3.12/dist-packages (from python-dateutil>=2.8.2->pandas->shap) (1.17.0)\n"
          ]
        }
      ],
      "source": [
        "!pip install xgboost\n",
        "!pip install shap\n",
        "!pip install lime\n",
        "!pip install catboost\n",
        "!pip install shap\n"
      ]
    },
    {
      "cell_type": "code",
      "source": [
        "!pip install category_encoders\n"
      ],
      "metadata": {
        "colab": {
          "base_uri": "https://localhost:8080/"
        },
        "id": "oefIs916wIjY",
        "outputId": "b1931992-272d-4768-c3a6-ebc0f990e480"
      },
      "execution_count": null,
      "outputs": [
        {
          "output_type": "stream",
          "name": "stdout",
          "text": [
            "Collecting category_encoders\n",
            "  Downloading category_encoders-2.8.1-py3-none-any.whl.metadata (7.9 kB)\n",
            "Requirement already satisfied: numpy>=1.14.0 in /usr/local/lib/python3.12/dist-packages (from category_encoders) (2.0.2)\n",
            "Requirement already satisfied: pandas>=1.0.5 in /usr/local/lib/python3.12/dist-packages (from category_encoders) (2.2.2)\n",
            "Requirement already satisfied: patsy>=0.5.1 in /usr/local/lib/python3.12/dist-packages (from category_encoders) (1.0.1)\n",
            "Requirement already satisfied: scikit-learn>=1.6.0 in /usr/local/lib/python3.12/dist-packages (from category_encoders) (1.6.1)\n",
            "Requirement already satisfied: scipy>=1.0.0 in /usr/local/lib/python3.12/dist-packages (from category_encoders) (1.16.1)\n",
            "Requirement already satisfied: statsmodels>=0.9.0 in /usr/local/lib/python3.12/dist-packages (from category_encoders) (0.14.5)\n",
            "Requirement already satisfied: python-dateutil>=2.8.2 in /usr/local/lib/python3.12/dist-packages (from pandas>=1.0.5->category_encoders) (2.9.0.post0)\n",
            "Requirement already satisfied: pytz>=2020.1 in /usr/local/lib/python3.12/dist-packages (from pandas>=1.0.5->category_encoders) (2025.2)\n",
            "Requirement already satisfied: tzdata>=2022.7 in /usr/local/lib/python3.12/dist-packages (from pandas>=1.0.5->category_encoders) (2025.2)\n",
            "Requirement already satisfied: joblib>=1.2.0 in /usr/local/lib/python3.12/dist-packages (from scikit-learn>=1.6.0->category_encoders) (1.5.2)\n",
            "Requirement already satisfied: threadpoolctl>=3.1.0 in /usr/local/lib/python3.12/dist-packages (from scikit-learn>=1.6.0->category_encoders) (3.6.0)\n",
            "Requirement already satisfied: packaging>=21.3 in /usr/local/lib/python3.12/dist-packages (from statsmodels>=0.9.0->category_encoders) (25.0)\n",
            "Requirement already satisfied: six>=1.5 in /usr/local/lib/python3.12/dist-packages (from python-dateutil>=2.8.2->pandas>=1.0.5->category_encoders) (1.17.0)\n",
            "Downloading category_encoders-2.8.1-py3-none-any.whl (85 kB)\n",
            "\u001b[2K   \u001b[90m━━━━━━━━━━━━━━━━━━━━━━━━━━━━━━━━━━━━━━━━\u001b[0m \u001b[32m85.7/85.7 kB\u001b[0m \u001b[31m3.3 MB/s\u001b[0m eta \u001b[36m0:00:00\u001b[0m\n",
            "\u001b[?25hInstalling collected packages: category_encoders\n",
            "Successfully installed category_encoders-2.8.1\n"
          ]
        }
      ]
    },
    {
      "cell_type": "code",
      "source": [
        "!wget https://ftp.ncbi.nlm.nih.gov/pub/clinvar/tab_delimited/variant_summary.txt.gz"
      ],
      "metadata": {
        "id": "rtzwhZJBByBd",
        "colab": {
          "base_uri": "https://localhost:8080/"
        },
        "outputId": "e9ef27ff-ff33-485a-e19d-61727017bf30"
      },
      "execution_count": null,
      "outputs": [
        {
          "output_type": "stream",
          "name": "stdout",
          "text": [
            "--2025-09-18 22:23:32--  https://ftp.ncbi.nlm.nih.gov/pub/clinvar/tab_delimited/variant_summary.txt.gz\n",
            "Resolving ftp.ncbi.nlm.nih.gov (ftp.ncbi.nlm.nih.gov)... 130.14.250.11, 130.14.250.12, 130.14.250.13, ...\n",
            "Connecting to ftp.ncbi.nlm.nih.gov (ftp.ncbi.nlm.nih.gov)|130.14.250.11|:443... connected.\n",
            "HTTP request sent, awaiting response... 200 OK\n",
            "Length: 383906063 (366M) [application/x-gzip]\n",
            "Saving to: ‘variant_summary.txt.gz’\n",
            "\n",
            "variant_summary.txt 100%[===================>] 366.12M  53.6MB/s    in 7.8s    \n",
            "\n",
            "2025-09-18 22:23:40 (46.8 MB/s) - ‘variant_summary.txt.gz’ saved [383906063/383906063]\n",
            "\n"
          ]
        }
      ]
    },
    {
      "cell_type": "code",
      "source": [
        "import gzip\n",
        "import numpy as np\n",
        "import pandas as pd\n",
        "import random\n",
        "import matplotlib.pyplot as plt\n",
        "import seaborn as sns\n",
        "import shap\n",
        "import lime\n",
        "import scipy.special\n",
        "import re\n",
        "import warnings\n",
        "warnings.filterwarnings('ignore')\n",
        "import lime.lime_tabular\n",
        "import xgboost as xgb\n",
        "from xgboost import XGBClassifier\n",
        "from lime.lime_tabular import LimeTabularExplainer\n",
        "from sklearn.preprocessing import LabelEncoder\n",
        "from sklearn.model_selection import train_test_split\n",
        "from sklearn.ensemble import RandomForestClassifier, GradientBoostingClassifier\n",
        "from sklearn.tree import DecisionTreeClassifier\n",
        "from sklearn.metrics import classification_report, accuracy_score, confusion_matrix, roc_curve\n",
        "from sklearn.inspection import permutation_importance\n",
        "from sklearn.linear_model import LogisticRegression\n",
        "from sklearn.naive_bayes import GaussianNB\n",
        "from sklearn.neural_network import MLPClassifier\n",
        "from sklearn.svm import LinearSVC\n",
        "from sklearn.neighbors import KNeighborsClassifier\n",
        "from sklearn.feature_selection import SelectKBest, f_classif #knn, kmeans\n",
        "from sklearn.calibration import CalibratedClassifierCV #knn, kmeans\n",
        "from catboost import CatBoostClassifier\n",
        "from lightgbm import LGBMClassifier\n",
        "from sklearn.calibration import CalibratedClassifierCV\n",
        "from sklearn.feature_selection import SelectKBest, f_classif\n",
        "from sklearn.cluster import KMeans\n",
        "from scipy.stats import f_oneway\n",
        "from sklearn.neural_network import MLPClassifier\n",
        "from sklearn.preprocessing import MinMaxScaler"
      ],
      "metadata": {
        "id": "pUP85DpF6M7a"
      },
      "execution_count": null,
      "outputs": []
    },
    {
      "cell_type": "code",
      "source": [
        "file_path = \"variant_summary.txt.gz\"\n",
        "columns = [\n",
        "    'Type','GeneSymbol','Cytogenetic','ReviewStatus','Assembly',\n",
        "    'ChromosomeAccession','Chromosome',\n",
        "    'PositionVCF','NumberSubmitters','SCVsForAggregateGermlineClassification',\n",
        "    'ClinicalSignificance'\n",
        "]\n",
        "df = pd.read_csv(file_path, sep=\"\\t\", usecols=columns)\n",
        "\n",
        "major_classes = ['Pathogenic', 'Benign', 'Likely benign', 'Likely pathogenic']\n",
        "df_binary = df[df['ClinicalSignificance'].isin(major_classes)]\n",
        "\n",
        "min_count = df_binary['ClinicalSignificance'].value_counts().min()\n",
        "df_binary_balanced = (\n",
        "    df_binary.groupby(\"ClinicalSignificance\", group_keys=False)\n",
        "    .apply(lambda x: x.sample(n=min_count, random_state=42))\n",
        ")\n",
        "\n",
        "target_size = 10000\n",
        "df_binary_reduced = (\n",
        "    df_binary_balanced.groupby(\"ClinicalSignificance\", group_keys=False)\n",
        "    .apply(lambda x: x.sample(n=target_size, random_state=42))\n",
        ")\n",
        "\n",
        "print(df_binary_reduced['ClinicalSignificance'].value_counts())\n",
        "X = df_binary_reduced.drop(columns=['ClinicalSignificance']).fillna(\"Unknown\")\n",
        "for col in X.columns:\n",
        "    if X[col].dtype == 'object':\n",
        "        le = LabelEncoder()\n",
        "        X[col] = le.fit_transform(X[col].astype(str))\n",
        "\n",
        "y = df_binary_reduced['ClinicalSignificance']\n",
        "le_y = LabelEncoder()\n",
        "y_encoded = le_y.fit_transform(y)\n",
        "\n",
        "X_train, X_test, y_train, y_test = train_test_split(\n",
        "    X, y_encoded, test_size=0.2, stratify=y_encoded, random_state=42\n",
        ")\n",
        "print(\"Train shape:\", X_train.shape)\n",
        "print(\"Test shape:\", X_test.shape)\n"
      ],
      "metadata": {
        "colab": {
          "base_uri": "https://localhost:8080/"
        },
        "id": "NeNdn3Tv97TA",
        "outputId": "24fb5953-c732-41e6-d567-bf9b71d1f4eb"
      },
      "execution_count": null,
      "outputs": [
        {
          "output_type": "stream",
          "name": "stdout",
          "text": [
            "ClinicalSignificance\n",
            "Benign               10000\n",
            "Likely benign        10000\n",
            "Likely pathogenic    10000\n",
            "Pathogenic           10000\n",
            "Name: count, dtype: int64\n",
            "Train shape: (32000, 10)\n",
            "Test shape: (8000, 10)\n"
          ]
        }
      ]
    },
    {
      "cell_type": "markdown",
      "source": [
        "# **TREE BASED MODEL**"
      ],
      "metadata": {
        "id": "7Wvu4CC8IuFn"
      }
    },
    {
      "cell_type": "markdown",
      "source": [
        "# XGBoost"
      ],
      "metadata": {
        "id": "9lGtD_VyIy2O"
      }
    },
    {
      "cell_type": "code",
      "source": [
        "from xgboost import XGBClassifier\n",
        "\n",
        "xgb_model = XGBClassifier(\n",
        "    objective='multi:softprob',\n",
        "    num_class=len(le_y.classes_),\n",
        "    eval_metric='mlogloss',\n",
        "    max_depth=6,\n",
        "    learning_rate=0.3,\n",
        "    n_estimators=100,\n",
        "    use_label_encoder=False,\n",
        "    random_state=42\n",
        ")"
      ],
      "metadata": {
        "id": "7I303nX_IOLQ"
      },
      "execution_count": null,
      "outputs": []
    },
    {
      "cell_type": "code",
      "source": [
        "xgb_model.fit(X_train, y_train)\n",
        "y_pred = xgb_model.predict(X_test)\n",
        "print(\"XGBoost Classification Report:\\n\", classification_report(y_test, y_pred, target_names=le_y.classes_))"
      ],
      "metadata": {
        "colab": {
          "base_uri": "https://localhost:8080/"
        },
        "id": "zegvs0oBIQkn",
        "outputId": "acd5b5b2-22a7-40ad-ac87-90c55b7e20a5"
      },
      "execution_count": null,
      "outputs": [
        {
          "output_type": "stream",
          "name": "stdout",
          "text": [
            "XGBoost Classification Report:\n",
            "                    precision    recall  f1-score   support\n",
            "\n",
            "           Benign       0.84      0.79      0.81      2000\n",
            "    Likely benign       0.69      0.80      0.74      2000\n",
            "Likely pathogenic       0.68      0.65      0.67      2000\n",
            "       Pathogenic       0.71      0.67      0.69      2000\n",
            "\n",
            "         accuracy                           0.73      8000\n",
            "        macro avg       0.73      0.73      0.73      8000\n",
            "     weighted avg       0.73      0.73      0.73      8000\n",
            "\n"
          ]
        }
      ]
    },
    {
      "cell_type": "code",
      "source": [
        "importances = xgb_model.feature_importances_\n",
        "importance_df = pd.DataFrame({'Feature': X_train.columns, 'XGB_BuiltIn': importances})\n",
        "\n",
        "print(\"\\n XGBoost Built-in Feature Importance:\")\n",
        "for feature, score in zip(importance_df['Feature'], importance_df['XGB_BuiltIn']):\n",
        "    print(f\"{feature}: {score:.6f}\")"
      ],
      "metadata": {
        "colab": {
          "base_uri": "https://localhost:8080/"
        },
        "id": "BULXg7k_KUA1",
        "outputId": "23aa8b1e-b4d5-4e72-e449-03803f3a6938"
      },
      "execution_count": null,
      "outputs": [
        {
          "output_type": "stream",
          "name": "stdout",
          "text": [
            "\n",
            "📊 XGBoost Built-in Feature Importance:\n",
            "Type: 0.344803\n",
            "GeneSymbol: 0.040304\n",
            "Assembly: 0.021989\n",
            "ChromosomeAccession: 0.031766\n",
            "Chromosome: 0.033770\n",
            "Cytogenetic: 0.033935\n",
            "ReviewStatus: 0.169366\n",
            "NumberSubmitters: 0.060700\n",
            "PositionVCF: 0.039090\n",
            "SCVsForAggregateGermlineClassification: 0.224277\n"
          ]
        }
      ]
    },
    {
      "cell_type": "code",
      "source": [
        "perm_result = permutation_importance(\n",
        "    estimator=xgb_model,\n",
        "    X=X_test,\n",
        "    y=y_test,\n",
        "    scoring='accuracy',\n",
        "    n_repeats=10,\n",
        "    random_state=42\n",
        ")\n",
        "perm_df = pd.DataFrame({\n",
        "    'Feature': X_train.columns,\n",
        "    'PermutationImportance': perm_result.importances_mean\n",
        "})\n",
        "print(\"\\n Permutation Importance (XGBClassifier):\")\n",
        "for feature, score in zip(perm_df['Feature'], perm_df['PermutationImportance']):\n",
        "    print(f\"{feature}: {score:.6f}\")"
      ],
      "metadata": {
        "colab": {
          "base_uri": "https://localhost:8080/"
        },
        "id": "f5JtzHgii5Bv",
        "outputId": "eb94d675-904f-48d0-e6f8-9a2b24b10013"
      },
      "execution_count": null,
      "outputs": [
        {
          "output_type": "stream",
          "name": "stdout",
          "text": [
            "\n",
            "📊 Permutation Importance (XGBClassifier):\n",
            "Type: 0.087375\n",
            "GeneSymbol: 0.019263\n",
            "Assembly: -0.001900\n",
            "ChromosomeAccession: 0.000112\n",
            "Chromosome: -0.001375\n",
            "Cytogenetic: 0.003925\n",
            "ReviewStatus: 0.044687\n",
            "NumberSubmitters: 0.025750\n",
            "PositionVCF: 0.015850\n",
            "SCVsForAggregateGermlineClassification: 0.380350\n"
          ]
        }
      ]
    },
    {
      "cell_type": "code",
      "source": [
        "X_test_subset = X_test.iloc[:500]\n",
        "explainer = shap.Explainer(xgb_model, X_train)\n",
        "shap_values = explainer(X_test_subset)\n",
        "shap_mean_abs = np.abs(shap_values.values).mean(axis=(0, 2))\n",
        "shap_df = pd.DataFrame({\n",
        "    'Feature': X_train.columns,\n",
        "    'SHAP_MeanAbs_500': shap_mean_abs\n",
        "})\n",
        "print (\"\\n XGBoost SHAP MEAN ABSOLUTE\")\n",
        "print(shap_df)"
      ],
      "metadata": {
        "colab": {
          "base_uri": "https://localhost:8080/"
        },
        "id": "p5I0SZBceO_w",
        "outputId": "bd1d749d-ba6c-4128-91b4-dc206e683452"
      },
      "execution_count": null,
      "outputs": [
        {
          "output_type": "stream",
          "name": "stderr",
          "text": [
            " 98%|===================| 1957/2000 [00:28<00:00]       "
          ]
        },
        {
          "output_type": "stream",
          "name": "stdout",
          "text": [
            "                                  Feature  SHAP_MeanAbs_500\n",
            "0                                    Type          0.320192\n",
            "1                              GeneSymbol          0.118109\n",
            "2                                Assembly          0.016960\n",
            "3                     ChromosomeAccession          0.054743\n",
            "4                              Chromosome          0.035686\n",
            "5                             Cytogenetic          0.075372\n",
            "6                            ReviewStatus          0.194959\n",
            "7                        NumberSubmitters          0.182855\n",
            "8                             PositionVCF          0.104035\n",
            "9  SCVsForAggregateGermlineClassification          1.225529\n"
          ]
        }
      ]
    },
    {
      "cell_type": "code",
      "source": [
        "X_sample = X_test.sample(n=500, random_state=42)\n",
        "explainer = shap.Explainer(xgb_model, X_train)\n",
        "shap_values = explainer(X_sample)\n",
        "mean_abs_shap = np.mean(np.abs(shap_values.values), axis=(0,2))\n",
        "shap_df = pd.DataFrame({\n",
        "    'Feature': X_train.columns,\n",
        "    'MeanAbsSHAP': mean_abs_shap\n",
        "}).sort_values(by='MeanAbsSHAP', ascending=False)\n",
        "print(\"\\n XGBOOST Mean Absolute Shap\")\n",
        "print(shap_df)\n"
      ],
      "metadata": {
        "colab": {
          "base_uri": "https://localhost:8080/"
        },
        "id": "r-CR-Y2LJBb2",
        "outputId": "f5e9b352-e4b5-4ff1-d3e3-6e37490543b9"
      },
      "execution_count": null,
      "outputs": [
        {
          "output_type": "stream",
          "name": "stderr",
          "text": [
            " 99%|===================| 1976/2000 [00:25<00:00]       "
          ]
        },
        {
          "output_type": "stream",
          "name": "stdout",
          "text": [
            "\n",
            " XGBOOST Mean Absolute Shap\n",
            "                                  Feature  MeanAbsSHAP\n",
            "9  SCVsForAggregateGermlineClassification     0.973037\n",
            "0                                    Type     0.402800\n",
            "6                            ReviewStatus     0.161217\n",
            "7                        NumberSubmitters     0.143957\n",
            "1                              GeneSymbol     0.127654\n",
            "8                             PositionVCF     0.112074\n",
            "5                             Cytogenetic     0.076205\n",
            "3                     ChromosomeAccession     0.057199\n",
            "4                              Chromosome     0.033077\n",
            "2                                Assembly     0.015925\n"
          ]
        }
      ]
    },
    {
      "cell_type": "code",
      "source": [
        "feature_names = list(X_train.columns)\n",
        "sample_indices = np.random.choice(len(X_test), size=500, replace=False)\n",
        "X_sample = X_test.iloc[sample_indices]\n",
        "y_sample = y_test[sample_indices]\n",
        "y_sample_idx = np.array([np.where(le_y.classes_ == le_y.inverse_transform([y])[0])[0][0]\n",
        "                         if np.ndim(y)==0 else y for y in y_sample])\n",
        "def predict_proba_lime(data_array):\n",
        "    dmatrix = xgb.DMatrix(data_array, feature_names=feature_names)\n",
        "    return model.predict(dmatrix)\n",
        "explainer = lime.lime_tabular.LimeTabularExplainer(\n",
        "    training_data=np.array(X_train),\n",
        "    feature_names=feature_names,\n",
        "    class_names=list(le_y.classes_),\n",
        "    mode='classification'\n",
        ")\n",
        "feature_importances = np.zeros(len(feature_names))\n",
        "for i in range(len(X_sample)):\n",
        "    exp = explainer.explain_instance(\n",
        "        data_row=X_sample.iloc[i].values,\n",
        "        predict_fn=predict_proba_lime)\n",
        "    exp_map = exp.as_map()\n",
        "    pred_class = y_pred[sample_indices[i]]\n",
        "    if pred_class in exp_map:\n",
        "        for feature_idx, importance in exp_map[pred_class]:\n",
        "            feature_importances[feature_idx] += abs(importance)\n",
        "feature_importances /= len(X_sample)\n",
        "lime_df = pd.DataFrame({\n",
        "    'Feature': feature_names,\n",
        "    'MeanAbsLIME': feature_importances\n",
        "}).sort_values(by='MeanAbsLIME', ascending=False)\n",
        "print(\"\\n XGBOOST Aggregated LIME Feature Importance\")\n",
        "print(lime_df)\n"
      ],
      "metadata": {
        "colab": {
          "base_uri": "https://localhost:8080/"
        },
        "id": "EC4PJDNHbMz5",
        "outputId": "c81ebe1f-9903-43ee-e93f-0c3a6bb6da87"
      },
      "execution_count": null,
      "outputs": [
        {
          "output_type": "stream",
          "name": "stdout",
          "text": [
            "\n",
            " XGBOOST Aggregated LIME Feature Importance\n",
            "                                  Feature  MeanAbsLIME\n",
            "0                                    Type     0.033370\n",
            "6                            ReviewStatus     0.020898\n",
            "9  SCVsForAggregateGermlineClassification     0.014902\n",
            "7                        NumberSubmitters     0.014316\n",
            "8                             PositionVCF     0.003414\n",
            "1                              GeneSymbol     0.003217\n",
            "3                     ChromosomeAccession     0.002352\n",
            "5                             Cytogenetic     0.001891\n",
            "4                              Chromosome     0.001854\n",
            "2                                Assembly     0.001371\n"
          ]
        }
      ]
    },
    {
      "cell_type": "markdown",
      "source": [
        "# Random Forest"
      ],
      "metadata": {
        "id": "tu9cY92YJG9l"
      }
    },
    {
      "cell_type": "code",
      "source": [
        "rf_model = RandomForestClassifier(\n",
        "    n_estimators=100,\n",
        "    max_depth=5,\n",
        "    min_samples_leaf=2,\n",
        "    n_jobs=-1,\n",
        "    random_state=42\n",
        ")"
      ],
      "metadata": {
        "id": "pkN_ArC0JXip"
      },
      "execution_count": null,
      "outputs": []
    },
    {
      "cell_type": "code",
      "source": [
        "rf_model.fit(X_train, y_train)\n",
        "y_pred = rf_model.predict(X_test)\n",
        "print(\"\\n Random Forest Classification Report\\n\", classification_report(y_test, y_pred, target_names=le_y.classes_))"
      ],
      "metadata": {
        "colab": {
          "base_uri": "https://localhost:8080/"
        },
        "id": "qdlS27pXr4Rr",
        "outputId": "11c74a84-63b2-44f1-e9ac-e60c7e3425af"
      },
      "execution_count": null,
      "outputs": [
        {
          "output_type": "stream",
          "name": "stdout",
          "text": [
            "\n",
            " Random Forest Classification Report\n",
            "                    precision    recall  f1-score   support\n",
            "\n",
            "           Benign       0.62      0.72      0.67      2000\n",
            "    Likely benign       0.53      0.78      0.63      2000\n",
            "Likely pathogenic       0.60      0.20      0.30      2000\n",
            "       Pathogenic       0.61      0.62      0.62      2000\n",
            "\n",
            "         accuracy                           0.58      8000\n",
            "        macro avg       0.59      0.58      0.55      8000\n",
            "     weighted avg       0.59      0.58      0.55      8000\n",
            "\n"
          ]
        }
      ]
    },
    {
      "cell_type": "code",
      "source": [
        "importance = rf_model.feature_importances_\n",
        "sorted_importance = sorted(zip(X_train.columns, importance), key=lambda x: x[1], reverse=True)\n",
        "print(\"\\n Random Forest Built-in Feature Importance:\\n\")\n",
        "for feature, score in sorted_importance:\n",
        "    print(f\"{feature}: {score:.4f}\")"
      ],
      "metadata": {
        "colab": {
          "base_uri": "https://localhost:8080/"
        },
        "id": "SyiRlDNps0zH",
        "outputId": "50b89658-907d-45d8-d759-3737f9f70505"
      },
      "execution_count": null,
      "outputs": [
        {
          "output_type": "stream",
          "name": "stdout",
          "text": [
            "\n",
            " Random Forest Built-in Feature Importance:\n",
            "\n",
            "SCVsForAggregateGermlineClassification: 0.3887\n",
            "Type: 0.3326\n",
            "ReviewStatus: 0.1354\n",
            "NumberSubmitters: 0.0839\n",
            "PositionVCF: 0.0245\n",
            "GeneSymbol: 0.0156\n",
            "Cytogenetic: 0.0095\n",
            "Chromosome: 0.0049\n",
            "ChromosomeAccession: 0.0046\n",
            "Assembly: 0.0004\n"
          ]
        }
      ]
    },
    {
      "cell_type": "code",
      "source": [
        "sample_indices = np.random.choice(len(X_test), size=int(0.2 * len(X_test)), replace=False)\n",
        "X_test_sample = X_test.iloc[sample_indices]\n",
        "y_test_sample = y_test[sample_indices]\n",
        "perm_importance = permutation_importance(\n",
        "    rf_model, X_test_sample, y_test_sample, n_repeats=10, random_state=42\n",
        ")\n",
        "print(\"\\n Random Forest Permutation Importance:\\n\")\n",
        "for i in perm_importance.importances_mean.argsort()[::-1]:\n",
        "    print(f\"{X_test.columns[i]}: {perm_importance.importances_mean[i]:.4f}\")"
      ],
      "metadata": {
        "colab": {
          "base_uri": "https://localhost:8080/"
        },
        "id": "42o-GAEzykyE",
        "outputId": "5c4f1f3b-0dbc-488d-e048-34e4b45d5124"
      },
      "execution_count": null,
      "outputs": [
        {
          "output_type": "stream",
          "name": "stdout",
          "text": [
            "\n",
            " Random Forest Permutation Importance:\n",
            "\n",
            "SCVsForAggregateGermlineClassification: 0.1954\n",
            "Type: 0.1252\n",
            "ReviewStatus: 0.0301\n",
            "NumberSubmitters: 0.0134\n",
            "PositionVCF: 0.0033\n",
            "Chromosome: 0.0029\n",
            "Assembly: 0.0007\n",
            "GeneSymbol: 0.0004\n",
            "Cytogenetic: -0.0001\n",
            "ChromosomeAccession: -0.0008\n"
          ]
        }
      ]
    },
    {
      "cell_type": "code",
      "source": [
        "X_sample = X_test.sample(n=100, random_state=42)\n",
        "explainer = shap.Explainer(rf_model, X_train)\n",
        "shap_values = explainer(X_sample)\n",
        "mean_abs_shap = np.mean(np.abs(shap_values.values), axis=(0,2))\n",
        "shap_df = pd.DataFrame({\n",
        "    'Feature': X_train.columns,\n",
        "    'MeanAbsSHAP': mean_abs_shap\n",
        "}).sort_values(by='MeanAbsSHAP', ascending=False)\n",
        "print(\"\\n Random Forest Mean Absolute Shap\")\n",
        "print(shap_df)"
      ],
      "metadata": {
        "colab": {
          "base_uri": "https://localhost:8080/"
        },
        "id": "6kp4j-42JmpP",
        "outputId": "677a961a-56d1-4287-f6ce-dbd76c6e7c16"
      },
      "execution_count": null,
      "outputs": [
        {
          "output_type": "stream",
          "name": "stdout",
          "text": [
            "\n",
            " Random Forest Mean Absolute Shap\n",
            "                                  Feature  MeanAbsSHAP\n",
            "9  SCVsForAggregateGermlineClassification     0.062160\n",
            "0                                    Type     0.061355\n",
            "6                            ReviewStatus     0.026338\n",
            "7                        NumberSubmitters     0.021363\n",
            "8                             PositionVCF     0.004544\n",
            "1                              GeneSymbol     0.002214\n",
            "5                             Cytogenetic     0.001701\n",
            "4                              Chromosome     0.001659\n",
            "3                     ChromosomeAccession     0.001413\n",
            "2                                Assembly     0.000094\n"
          ]
        }
      ]
    },
    {
      "cell_type": "code",
      "source": [
        "feature_names = list(X_train.columns)\n",
        "sample_indices = np.random.choice(len(X_test), size=100, replace=False)\n",
        "X_sample = X_test.iloc[sample_indices]\n",
        "y_sample = y_test[sample_indices]\n",
        "explainer = lime.lime_tabular.LimeTabularExplainer(\n",
        "    training_data=np.array(X_train),\n",
        "    feature_names=feature_names,\n",
        "    class_names=list(le_y.classes_),\n",
        "    mode='classification'\n",
        ")\n",
        "feature_importances = np.zeros(len(feature_names))\n",
        "for i in range(len(X_sample)):\n",
        "    exp = explainer.explain_instance(\n",
        "        data_row=X_sample.iloc[i].values,\n",
        "        predict_fn=rf_model.predict_proba,\n",
        "        num_features=len(feature_names)\n",
        "    )\n",
        "    exp_map = exp.as_map()\n",
        "    pred_class = y_pred[sample_indices[i]]\n",
        "    if pred_class in exp_map:\n",
        "        for feature_idx, importance in exp_map[pred_class]:\n",
        "            feature_importances[feature_idx] += abs(importance)\n",
        "feature_importances /= len(X_sample)\n",
        "lime_df = pd.DataFrame({\n",
        "    'Feature': feature_names,\n",
        "    'MeanAbsLIME': feature_importances\n",
        "}).sort_values(by='MeanAbsLIME', ascending=False)\n",
        "print(\"\\nRandom Forest Aggregated LIME Feature Importance:\")\n",
        "print(lime_df)"
      ],
      "metadata": {
        "colab": {
          "base_uri": "https://localhost:8080/"
        },
        "id": "pk48wWKdL5x9",
        "outputId": "6dffcb53-5b5d-4f6e-f4bd-a79eaa1b35a5"
      },
      "execution_count": null,
      "outputs": [
        {
          "output_type": "stream",
          "name": "stdout",
          "text": [
            "\n",
            "Random Forest Aggregated LIME Feature Importance:\n",
            "                                  Feature  MeanAbsLIME\n",
            "0                                    Type     0.070171\n",
            "9  SCVsForAggregateGermlineClassification     0.028414\n",
            "7                        NumberSubmitters     0.024212\n",
            "6                            ReviewStatus     0.018582\n",
            "1                              GeneSymbol     0.000838\n",
            "4                              Chromosome     0.000755\n",
            "5                             Cytogenetic     0.000740\n",
            "3                     ChromosomeAccession     0.000617\n",
            "2                                Assembly     0.000550\n",
            "8                             PositionVCF     0.000526\n"
          ]
        }
      ]
    },
    {
      "cell_type": "markdown",
      "source": [
        "# Decision Tree"
      ],
      "metadata": {
        "id": "aJ2Xv3mkQg2M"
      }
    },
    {
      "cell_type": "code",
      "source": [
        "dt_model = DecisionTreeClassifier(\n",
        "    criterion=\"gini\",\n",
        "    max_depth=10,\n",
        "    random_state=42\n",
        ")\n",
        "dt_model.fit(X_train, y_train)\n",
        "y_pred = dt_model.predict(X_test)"
      ],
      "metadata": {
        "id": "w9fy0CASMBG6"
      },
      "execution_count": null,
      "outputs": []
    },
    {
      "cell_type": "code",
      "source": [
        "print(\"\\n Decision Tree Classification Report\\n\", classification_report(y_test, y_pred, target_names=le_y.classes_))"
      ],
      "metadata": {
        "colab": {
          "base_uri": "https://localhost:8080/"
        },
        "id": "Fu6fdivOMJKj",
        "outputId": "a4e1ee1a-d4f2-4c6b-eabd-143b8939d69c"
      },
      "execution_count": null,
      "outputs": [
        {
          "output_type": "stream",
          "name": "stdout",
          "text": [
            "\n",
            " Decision Tree Classification Report\n",
            "                    precision    recall  f1-score   support\n",
            "\n",
            "           Benign       0.87      0.75      0.80      2000\n",
            "    Likely benign       0.66      0.78      0.71      2000\n",
            "Likely pathogenic       0.63      0.64      0.64      2000\n",
            "       Pathogenic       0.68      0.63      0.66      2000\n",
            "\n",
            "         accuracy                           0.70      8000\n",
            "        macro avg       0.71      0.70      0.70      8000\n",
            "     weighted avg       0.71      0.70      0.70      8000\n",
            "\n"
          ]
        }
      ]
    },
    {
      "cell_type": "code",
      "source": [
        "dt_importances = pd.DataFrame({\n",
        "    \"Feature\": X_train.columns,\n",
        "    \"Importance\": dt_model.feature_importances_\n",
        "}).sort_values(by=\"Importance\", ascending=False)\n",
        "print(\"\\nDecision Tree Feature Importances:\")\n",
        "print(dt_importances)"
      ],
      "metadata": {
        "colab": {
          "base_uri": "https://localhost:8080/"
        },
        "id": "sDF1BopbMb0f",
        "outputId": "3a629512-f16b-4315-c7cd-fce49dfd04f4"
      },
      "execution_count": null,
      "outputs": [
        {
          "output_type": "stream",
          "name": "stdout",
          "text": [
            "\n",
            "Decision Tree Feature Importances:\n",
            "                                  Feature  Importance\n",
            "9  SCVsForAggregateGermlineClassification    0.738355\n",
            "0                                    Type    0.143057\n",
            "6                            ReviewStatus    0.036338\n",
            "1                              GeneSymbol    0.025798\n",
            "7                        NumberSubmitters    0.017626\n",
            "8                             PositionVCF    0.017562\n",
            "5                             Cytogenetic    0.011823\n",
            "3                     ChromosomeAccession    0.006282\n",
            "4                              Chromosome    0.002721\n",
            "2                                Assembly    0.000438\n"
          ]
        }
      ]
    },
    {
      "cell_type": "code",
      "source": [
        "sample_indices = np.random.choice(len(X_test), size=int(0.2 * len(X_test)), replace=False)\n",
        "X_test_sample = X_test.iloc[sample_indices]\n",
        "y_test_sample = y_test[sample_indices]\n",
        "perm_importance = permutation_importance(\n",
        "    dt_model, X_test_sample, y_test_sample, n_repeats=10, random_state=42\n",
        ")\n",
        "print(\"\\n Decision tree Permutation Importance:\\n\")\n",
        "for i in perm_importance.importances_mean.argsort()[::-1]:\n",
        "    print(f\"{X_test.columns[i]}: {perm_importance.importances_mean[i]:.4f}\")"
      ],
      "metadata": {
        "colab": {
          "base_uri": "https://localhost:8080/"
        },
        "id": "E1wZm8umMdZV",
        "outputId": "15cff83d-d9a9-43b8-9e6b-70994eaabb7e"
      },
      "execution_count": null,
      "outputs": [
        {
          "output_type": "stream",
          "name": "stdout",
          "text": [
            "\n",
            " Decision tree Permutation Importance:\n",
            "\n",
            "SCVsForAggregateGermlineClassification: 0.3875\n",
            "Type: 0.1083\n",
            "ReviewStatus: 0.0473\n",
            "NumberSubmitters: 0.0161\n",
            "PositionVCF: 0.0114\n",
            "GeneSymbol: 0.0057\n",
            "Cytogenetic: 0.0029\n",
            "ChromosomeAccession: 0.0018\n",
            "Chromosome: 0.0016\n",
            "Assembly: 0.0000\n"
          ]
        }
      ]
    },
    {
      "cell_type": "code",
      "source": [
        "X_sample = X_test.sample(n=100, random_state=42)\n",
        "explainer = shap.Explainer(dt_model, X_train)\n",
        "shap_values = explainer(X_sample)\n",
        "mean_abs_shap = np.mean(np.abs(shap_values.values), axis=(0,2))\n",
        "shap_df = pd.DataFrame({\n",
        "    'Feature': X_train.columns,\n",
        "    'MeanAbsSHAP': mean_abs_shap\n",
        "}).sort_values(by='MeanAbsSHAP', ascending=False)\n",
        "print(\"\\n Decision tree Mean Absolute Shap\")\n",
        "print(shap_df)"
      ],
      "metadata": {
        "colab": {
          "base_uri": "https://localhost:8080/"
        },
        "id": "rHCLlY1_MxR0",
        "outputId": "f58919c7-e363-453f-d20a-91e74a963161"
      },
      "execution_count": null,
      "outputs": [
        {
          "output_type": "stream",
          "name": "stdout",
          "text": [
            "\n",
            " Decision tree Mean Absolute Shap\n",
            "                                  Feature  MeanAbsSHAP\n",
            "9  SCVsForAggregateGermlineClassification     0.186873\n",
            "0                                    Type     0.058097\n",
            "6                            ReviewStatus     0.024143\n",
            "7                        NumberSubmitters     0.015921\n",
            "1                              GeneSymbol     0.010895\n",
            "8                             PositionVCF     0.007699\n",
            "5                             Cytogenetic     0.005069\n",
            "3                     ChromosomeAccession     0.003898\n",
            "4                              Chromosome     0.001254\n",
            "2                                Assembly     0.000503\n"
          ]
        }
      ]
    },
    {
      "cell_type": "code",
      "source": [
        "feature_names = list(X_train.columns)\n",
        "sample_indices = np.random.choice(len(X_test), size=100, replace=False)\n",
        "X_sample = X_test.iloc[sample_indices]\n",
        "y_sample = y_test[sample_indices]\n",
        "explainer = lime.lime_tabular.LimeTabularExplainer(\n",
        "    training_data=np.array(X_train),\n",
        "    feature_names=feature_names,\n",
        "    class_names=list(le_y.classes_),\n",
        "    mode='classification'\n",
        ")\n",
        "feature_importances = np.zeros(len(feature_names))\n",
        "for i in range(len(X_sample)):\n",
        "    exp = explainer.explain_instance(\n",
        "        data_row=X_sample.iloc[i].values,\n",
        "        predict_fn=dt_model.predict_proba,\n",
        "        num_features=len(feature_names)\n",
        "    )\n",
        "    exp_map = exp.as_map()\n",
        "    pred_class = y_pred[sample_indices[i]]\n",
        "    if pred_class in exp_map:\n",
        "        for feature_idx, importance in exp_map[pred_class]:\n",
        "            feature_importances[feature_idx] += abs(importance)\n",
        "feature_importances /= len(X_sample)\n",
        "lime_df = pd.DataFrame({\n",
        "    'Feature': feature_names,\n",
        "    'MeanAbsLIME': feature_importances\n",
        "}).sort_values(by='MeanAbsLIME', ascending=False)\n",
        "print(\"\\nDecision tree Aggregated LIME Feature Importance:\")\n",
        "print(lime_df)"
      ],
      "metadata": {
        "colab": {
          "base_uri": "https://localhost:8080/"
        },
        "outputId": "9e2bc275-553b-4935-cb27-d9b31ecefa22",
        "id": "uUgQYOScNC7z"
      },
      "execution_count": null,
      "outputs": [
        {
          "output_type": "stream",
          "name": "stdout",
          "text": [
            "\n",
            "Decision tree Aggregated LIME Feature Importance:\n",
            "                                  Feature  MeanAbsLIME\n",
            "0                                    Type     0.068564\n",
            "9  SCVsForAggregateGermlineClassification     0.040176\n",
            "7                        NumberSubmitters     0.015922\n",
            "6                            ReviewStatus     0.005257\n",
            "3                     ChromosomeAccession     0.002172\n",
            "4                              Chromosome     0.002113\n",
            "8                             PositionVCF     0.002051\n",
            "5                             Cytogenetic     0.001797\n",
            "1                              GeneSymbol     0.001749\n",
            "2                                Assembly     0.001623\n"
          ]
        }
      ]
    },
    {
      "cell_type": "markdown",
      "source": [
        "# CAT Model"
      ],
      "metadata": {
        "id": "TbOMdqVxQp8O"
      }
    },
    {
      "cell_type": "code",
      "source": [
        "cat_model = CatBoostClassifier(random_state=42, verbose=0)\n",
        "cat_model.fit(X_train, y_train)\n",
        "y_pred_cat = cat_model.predict(X_test)\n",
        "print(\"=== CatBoost Classification Report ===\")\n",
        "print(classification_report(y_test, y_pred_cat))"
      ],
      "metadata": {
        "colab": {
          "base_uri": "https://localhost:8080/"
        },
        "id": "6qdMWeJm_MdA",
        "outputId": "6641b2d7-26c8-410a-8b6a-b932baa41e08"
      },
      "execution_count": null,
      "outputs": [
        {
          "output_type": "stream",
          "name": "stdout",
          "text": [
            "=== CatBoost Classification Report ===\n",
            "              precision    recall  f1-score   support\n",
            "\n",
            "           0       0.85      0.77      0.81      2000\n",
            "           1       0.68      0.80      0.73      2000\n",
            "           2       0.67      0.66      0.66      2000\n",
            "           3       0.71      0.66      0.68      2000\n",
            "\n",
            "    accuracy                           0.72      8000\n",
            "   macro avg       0.73      0.72      0.72      8000\n",
            "weighted avg       0.73      0.72      0.72      8000\n",
            "\n"
          ]
        }
      ]
    },
    {
      "cell_type": "code",
      "source": [
        "from catboost import Pool\n",
        "cat_importances = cat_model.get_feature_importance(Pool(X_test, y_test))\n",
        "cat_df = pd.DataFrame({\n",
        "    \"Feature\": X_train.columns,\n",
        "    \"CatBoostImportance\": cat_importances\n",
        "}).sort_values(by=\"CatBoostImportance\", ascending=False)\n",
        "\n",
        "print(\"\\nCatBoost Feature Importance:\")\n",
        "print(cat_df)"
      ],
      "metadata": {
        "colab": {
          "base_uri": "https://localhost:8080/"
        },
        "id": "tdf0hyEmNYW3",
        "outputId": "ece972f5-d791-46a2-fa90-76f45f6e09a0"
      },
      "execution_count": null,
      "outputs": [
        {
          "output_type": "stream",
          "name": "stdout",
          "text": [
            "\n",
            "CatBoost Feature Importance:\n",
            "                                  Feature  CatBoostImportance\n",
            "9  SCVsForAggregateGermlineClassification           52.594126\n",
            "0                                    Type           12.707558\n",
            "1                              GeneSymbol            8.075710\n",
            "8                             PositionVCF            6.888914\n",
            "6                            ReviewStatus            6.685362\n",
            "5                             Cytogenetic            4.017003\n",
            "7                        NumberSubmitters            3.438795\n",
            "3                     ChromosomeAccession            2.946121\n",
            "4                              Chromosome            1.825251\n",
            "2                                Assembly            0.821159\n"
          ]
        }
      ]
    },
    {
      "cell_type": "code",
      "source": [
        "sample_indices = np.random.choice(len(X_test), size=int(0.2 * len(X_test)), replace=False)\n",
        "X_test_sample = X_test.iloc[sample_indices]\n",
        "y_test_sample = y_test[sample_indices]\n",
        "perm_importance = permutation_importance(\n",
        "    cat_model, X_test_sample, y_test_sample, n_repeats=10, random_state=42\n",
        ")\n",
        "print(\"\\n CAT model Permutation Importance:\\n\")\n",
        "for i in perm_importance.importances_mean.argsort()[::-1]:\n",
        "    print(f\"{X_test.columns[i]}: {perm_importance.importances_mean[i]:.4f}\")"
      ],
      "metadata": {
        "colab": {
          "base_uri": "https://localhost:8080/"
        },
        "outputId": "bcd2c9eb-451e-4cfb-df85-a092f17491e3",
        "id": "1eoKK5iUP1Sk"
      },
      "execution_count": null,
      "outputs": [
        {
          "output_type": "stream",
          "name": "stdout",
          "text": [
            "\n",
            " CAT model Permutation Importance:\n",
            "\n",
            "SCVsForAggregateGermlineClassification: 0.3506\n",
            "Type: 0.0883\n",
            "ReviewStatus: 0.0321\n",
            "NumberSubmitters: 0.0221\n",
            "PositionVCF: 0.0166\n",
            "GeneSymbol: 0.0149\n",
            "ChromosomeAccession: 0.0042\n",
            "Cytogenetic: 0.0031\n",
            "Assembly: -0.0005\n",
            "Chromosome: -0.0014\n"
          ]
        }
      ]
    },
    {
      "cell_type": "code",
      "source": [
        "from catboost import CatBoostClassifier, Pool\n",
        "import category_encoders as ce\n",
        "encoder = ce.TargetEncoder(cols=X_train.select_dtypes(include=['object', 'category']).columns)\n",
        "X_train_encoded = encoder.fit_transform(X_train, y_train)\n",
        "X_test_encoded = encoder.transform(X_test)\n"
      ],
      "metadata": {
        "id": "G0vd9NUHvS8K"
      },
      "execution_count": null,
      "outputs": []
    },
    {
      "cell_type": "code",
      "source": [
        "import numpy as np\n",
        "import pandas as pd\n",
        "from catboost import Pool\n",
        "sample_size = min(200, len(X_test_encoded))\n",
        "rng = np.random.default_rng(42)\n",
        "sample_indices = rng.choice(len(X_test_encoded), size=sample_size, replace=False)\n",
        "X_sample = X_test_encoded.iloc[sample_indices].copy()\n",
        "try:\n",
        "    y_sample = y_test.iloc[sample_indices]\n",
        "except Exception:\n",
        "    y_sample = y_test[sample_indices]\n",
        "model_feats = list(cat_model.feature_names_)\n",
        "missing = [c for c in model_feats if c not in X_sample.columns]\n",
        "if missing:\n",
        "    raise ValueError(f\"X_sample is missing model feature columns: {missing}\")\n",
        "\n",
        "X_sample = X_sample[model_feats]\n",
        "\n",
        "sample_pool = Pool(data=X_sample, label=y_sample)\n",
        "\n",
        "shap_values_full = cat_model.get_feature_importance(data=sample_pool, type='ShapValues')\n",
        "print(\"shap_values_full.shape:\", shap_values_full.shape)\n",
        "\n",
        "s = shap_values_full.shape\n",
        "nd = shap_values_full.ndim\n",
        "\n",
        "if nd == 2:\n",
        "\n",
        "    n_cols = s[1]\n",
        "    if n_cols == len(model_feats):\n",
        "\n",
        "        shap_values_only = shap_values_full\n",
        "    elif n_cols == len(model_feats) + 1:\n",
        "        shap_values_only = shap_values_full[:, :-1]\n",
        "    else:\n",
        "        raise ValueError(f\"Unexpected 2D SHAP shape {s} vs {len(model_feats)} model features.\")\n",
        "\n",
        "    mean_abs_shap = np.mean(np.abs(shap_values_only), axis=0)\n",
        "\n",
        "elif nd == 3:\n",
        "\n",
        "    candidate_axes = []\n",
        "    for axis_idx in (1, 2):\n",
        "        if s[axis_idx] in (len(model_feats), len(model_feats) + 1):\n",
        "            candidate_axes.append(axis_idx)\n",
        "\n",
        "    if not candidate_axes:\n",
        "        raise ValueError(f\"Cannot detect feature axis automatically. shap shape={s}, model_feats={len(model_feats)}\")\n",
        "\n",
        "    feat_axis = None\n",
        "    for a in candidate_axes:\n",
        "        if s[a] == len(model_feats):\n",
        "            feat_axis = a\n",
        "            break\n",
        "    if feat_axis is None:\n",
        "        feat_axis = candidate_axes[0]\n",
        "\n",
        "    class_axis = 1 if feat_axis == 2 else 2\n",
        "\n",
        "    if s[feat_axis] == len(model_feats) + 1:\n",
        "\n",
        "        idx = [slice(None)] * 3\n",
        "        idx[feat_axis] = slice(0, len(model_feats))\n",
        "        shap_trimmed = shap_values_full[tuple(idx)]\n",
        "    else:\n",
        "        shap_trimmed = shap_values_full\n",
        "\n",
        "\n",
        "    if feat_axis != 1:\n",
        "        shap_values_only = np.moveaxis(shap_trimmed, [feat_axis, class_axis], [1, 2])\n",
        "    else:\n",
        "        shap_values_only = shap_trimmed\n",
        "\n",
        "    print(\"shap_values_only.shape (samples, features, classes):\", shap_values_only.shape)\n",
        "\n",
        "    mean_abs_shap = np.mean(np.abs(shap_values_only), axis=(0, 2))\n",
        "\n",
        "else:\n",
        "    raise ValueError(f\"Unexpected shap_values_full.ndim = {nd}\")\n",
        "\n",
        "if mean_abs_shap.shape[0] != len(model_feats):\n",
        "\n",
        "    print(f\"WARNING: mean_abs_shap length {mean_abs_shap.shape[0]} != model feature count {len(model_feats)}.\")\n",
        "    used_feats = model_feats[: mean_abs_shap.shape[0]]\n",
        "else:\n",
        "    used_feats = model_feats\n",
        "\n",
        "shap_df = pd.DataFrame({\n",
        "    'Feature': used_feats,\n",
        "    'MeanAbsSHAP': mean_abs_shap\n",
        "}).sort_values('MeanAbsSHAP', ascending=False).reset_index(drop=True)\n",
        "\n",
        "print(shap_df)\n"
      ],
      "metadata": {
        "colab": {
          "base_uri": "https://localhost:8080/"
        },
        "id": "zcy6figeya4q",
        "outputId": "ae68e142-c50a-4105-9e43-7d86bf68cc93"
      },
      "execution_count": null,
      "outputs": [
        {
          "output_type": "stream",
          "name": "stdout",
          "text": [
            "shap_values_full.shape: (200, 4, 11)\n",
            "shap_values_only.shape (samples, features, classes): (200, 10, 4)\n",
            "                                  Feature  MeanAbsSHAP\n",
            "0  SCVsForAggregateGermlineClassification     0.743481\n",
            "1                                    Type     0.361920\n",
            "2                            ReviewStatus     0.173352\n",
            "3                        NumberSubmitters     0.141814\n",
            "4                              GeneSymbol     0.108341\n",
            "5                             PositionVCF     0.095031\n",
            "6                             Cytogenetic     0.053252\n",
            "7                     ChromosomeAccession     0.048312\n",
            "8                              Chromosome     0.035662\n",
            "9                                Assembly     0.021040\n"
          ]
        }
      ]
    },
    {
      "cell_type": "code",
      "source": [
        "\n",
        "feature_names = list(X_train.columns)\n",
        "sample_indices = np.random.choice(len(X_test), size=100, replace=False)\n",
        "X_sample = X_test.iloc[sample_indices]\n",
        "y_sample = y_test[sample_indices]\n",
        "\n",
        "\n",
        "explainer = lime.lime_tabular.LimeTabularExplainer(\n",
        "    training_data=np.array(X_train),\n",
        "    feature_names=feature_names,\n",
        "    class_names=list(le_y.classes_),\n",
        "    mode='classification'\n",
        ")\n",
        "\n",
        "feature_importances = np.zeros(len(feature_names))\n",
        "\n",
        "for i in range(len(X_sample)):\n",
        "    exp = explainer.explain_instance(\n",
        "        data_row=X_sample.iloc[i].values,\n",
        "        predict_fn=cat_model.predict_proba,\n",
        "        num_features=len(feature_names)\n",
        "    )\n",
        "    exp_map = exp.as_map()\n",
        "    pred_class = y_pred[sample_indices[i]]\n",
        "\n",
        "    if pred_class in exp_map:\n",
        "        for feature_idx, importance in exp_map[pred_class]:\n",
        "            feature_importances[feature_idx] += abs(importance)\n",
        "\n",
        "\n",
        "feature_importances /= len(X_sample)\n",
        "\n",
        "\n",
        "lime_df = pd.DataFrame({\n",
        "    'Feature': feature_names,\n",
        "    'MeanAbsLIME': feature_importances\n",
        "}).sort_values(by='MeanAbsLIME', ascending=False)\n",
        "\n",
        "print(\"\\nCAT Aggregated LIME Feature Importance:\")\n",
        "print(lime_df)\n"
      ],
      "metadata": {
        "colab": {
          "base_uri": "https://localhost:8080/"
        },
        "outputId": "1b0c09f4-3570-4584-ffc5-b6b1d24ce459",
        "id": "AMYnsvaCQ--o"
      },
      "execution_count": null,
      "outputs": [
        {
          "output_type": "stream",
          "name": "stdout",
          "text": [
            "\n",
            "CAT Aggregated LIME Feature Importance:\n",
            "                                  Feature  MeanAbsLIME\n",
            "0                                    Type     0.068254\n",
            "6                            ReviewStatus     0.038220\n",
            "7                        NumberSubmitters     0.036279\n",
            "9  SCVsForAggregateGermlineClassification     0.032158\n",
            "4                              Chromosome     0.002463\n",
            "2                                Assembly     0.002435\n",
            "8                             PositionVCF     0.002409\n",
            "3                     ChromosomeAccession     0.002180\n",
            "5                             Cytogenetic     0.002072\n",
            "1                              GeneSymbol     0.001942\n"
          ]
        }
      ]
    },
    {
      "cell_type": "markdown",
      "source": [
        "# LightGBM"
      ],
      "metadata": {
        "id": "F5_m7JqwSgkn"
      }
    },
    {
      "cell_type": "code",
      "source": [
        "lgb_model = LGBMClassifier(random_state=42)\n",
        "lgb_model.fit(X_train, y_train)\n",
        "y_pred_lgb = lgb_model.predict(X_test)\n",
        "print(\"=== LightGBM Classification Report ===\")\n",
        "print(classification_report(y_test, y_pred_lgb))"
      ],
      "metadata": {
        "colab": {
          "base_uri": "https://localhost:8080/"
        },
        "id": "zyYQ0COv_ZGJ",
        "outputId": "e37a2dbf-743a-458b-8b0e-ad9a4e962527"
      },
      "execution_count": null,
      "outputs": [
        {
          "output_type": "stream",
          "name": "stdout",
          "text": [
            "[LightGBM] [Info] Auto-choosing row-wise multi-threading, the overhead of testing was 0.000887 seconds.\n",
            "You can set `force_row_wise=true` to remove the overhead.\n",
            "And if memory is not enough, you can set `force_col_wise=true`.\n",
            "[LightGBM] [Info] Total Bins 1153\n",
            "[LightGBM] [Info] Number of data points in the train set: 32000, number of used features: 10\n",
            "[LightGBM] [Info] Start training from score -1.386294\n",
            "[LightGBM] [Info] Start training from score -1.386294\n",
            "[LightGBM] [Info] Start training from score -1.386294\n",
            "[LightGBM] [Info] Start training from score -1.386294\n",
            "=== LightGBM Classification Report ===\n",
            "              precision    recall  f1-score   support\n",
            "\n",
            "           0       0.86      0.78      0.82      2000\n",
            "           1       0.68      0.79      0.73      2000\n",
            "           2       0.69      0.65      0.67      2000\n",
            "           3       0.69      0.67      0.68      2000\n",
            "\n",
            "    accuracy                           0.73      8000\n",
            "   macro avg       0.73      0.73      0.73      8000\n",
            "weighted avg       0.73      0.73      0.73      8000\n",
            "\n"
          ]
        }
      ]
    },
    {
      "cell_type": "code",
      "source": [
        "importances = pd.DataFrame({\n",
        "    'Feature': X_train.columns,\n",
        "    'Importance': lgb_model.feature_importances_\n",
        "}).sort_values(by='Importance', ascending=False)\n",
        "\n",
        "print(\"\\nLightGBM Feature Importance:\")\n",
        "print(importances)\n"
      ],
      "metadata": {
        "colab": {
          "base_uri": "https://localhost:8080/"
        },
        "id": "ujyyMwROPb2R",
        "outputId": "a386abc0-eb0d-4752-f6d4-d72d1e7ad09d"
      },
      "execution_count": null,
      "outputs": [
        {
          "output_type": "stream",
          "name": "stdout",
          "text": [
            "\n",
            "LightGBM Feature Importance:\n",
            "                                  Feature  Importance\n",
            "9  SCVsForAggregateGermlineClassification        5012\n",
            "1                              GeneSymbol        1971\n",
            "8                             PositionVCF        1529\n",
            "5                             Cytogenetic        1006\n",
            "3                     ChromosomeAccession         587\n",
            "7                        NumberSubmitters         541\n",
            "6                            ReviewStatus         529\n",
            "0                                    Type         434\n",
            "4                              Chromosome         279\n",
            "2                                Assembly         112\n"
          ]
        }
      ]
    },
    {
      "cell_type": "code",
      "source": [
        "sample_indices = np.random.choice(len(X_test), size=int(0.2 * len(X_test)), replace=False)\n",
        "X_test_sample = X_test.iloc[sample_indices]\n",
        "y_test_sample = y_test[sample_indices]\n",
        "perm_importance = permutation_importance(\n",
        "    lgb_model, X_test_sample, y_test_sample,\n",
        "    n_repeats=10, random_state=42\n",
        ")\n",
        "print(\"\\n LightGBM model Permutation Importance:\\n\")\n",
        "for i in perm_importance.importances_mean.argsort()[::-1]:\n",
        "    print(f\"{X_test.columns[i]}: {perm_importance.importances_mean[i]:.4f}\")"
      ],
      "metadata": {
        "colab": {
          "base_uri": "https://localhost:8080/"
        },
        "outputId": "dc105040-9385-4ae2-b09a-d4f25624c6e2",
        "id": "zr1zVvtIRiid"
      },
      "execution_count": null,
      "outputs": [
        {
          "output_type": "stream",
          "name": "stdout",
          "text": [
            "\n",
            " LightGBM model Permutation Importance:\n",
            "\n",
            "SCVsForAggregateGermlineClassification: 0.3829\n",
            "Type: 0.0905\n",
            "ReviewStatus: 0.0387\n",
            "NumberSubmitters: 0.0373\n",
            "GeneSymbol: 0.0138\n",
            "PositionVCF: 0.0109\n",
            "ChromosomeAccession: 0.0032\n",
            "Cytogenetic: -0.0006\n",
            "Assembly: -0.0006\n",
            "Chromosome: -0.0059\n"
          ]
        }
      ]
    },
    {
      "cell_type": "code",
      "source": [
        "X_sample = X_test.sample(n=100, random_state=42)\n",
        "explainer = shap.Explainer(lgb_model, X_train)\n",
        "shap_values = explainer(X_sample)\n",
        "mean_abs_shap = np.mean(np.abs(shap_values.values), axis=(0,2))\n",
        "shap_df = pd.DataFrame({\n",
        "    'Feature': X_train.columns,\n",
        "    'MeanAbsSHAP': mean_abs_shap\n",
        "}).sort_values(by='MeanAbsSHAP', ascending=False)\n",
        "print(\"\\n LightGBM Mean Absolute Shap\")\n",
        "print(shap_df)"
      ],
      "metadata": {
        "colab": {
          "base_uri": "https://localhost:8080/"
        },
        "id": "0F6Q4DSeRWRz",
        "outputId": "8b4f248c-38d9-4a13-e3eb-71917db865c5"
      },
      "execution_count": null,
      "outputs": [
        {
          "output_type": "stream",
          "name": "stdout",
          "text": [
            "\n",
            " LightGBM Mean Absolute Shap\n",
            "                                  Feature  MeanAbsSHAP\n",
            "9  SCVsForAggregateGermlineClassification     0.829870\n",
            "0                                    Type     0.247587\n",
            "7                        NumberSubmitters     0.154634\n",
            "6                            ReviewStatus     0.136750\n",
            "1                              GeneSymbol     0.092535\n",
            "8                             PositionVCF     0.079739\n",
            "5                             Cytogenetic     0.053477\n",
            "3                     ChromosomeAccession     0.039232\n",
            "4                              Chromosome     0.019590\n",
            "2                                Assembly     0.004310\n"
          ]
        }
      ]
    },
    {
      "cell_type": "code",
      "source": [
        "# Sample test data\n",
        "feature_names = list(X_train.columns)\n",
        "sample_indices = np.random.choice(len(X_test), size=100, replace=False)\n",
        "X_sample = X_test.iloc[sample_indices]\n",
        "y_sample = y_test[sample_indices]\n",
        "\n",
        "\n",
        "explainer = lime.lime_tabular.LimeTabularExplainer(\n",
        "    training_data=np.array(X_train),\n",
        "    feature_names=feature_names,\n",
        "    class_names=list(le_y.classes_),\n",
        "    mode='classification'\n",
        ")\n",
        "\n",
        "\n",
        "feature_importances = np.zeros(len(feature_names))\n",
        "\n",
        "for i in range(len(X_sample)):\n",
        "    exp = explainer.explain_instance(\n",
        "        data_row=X_sample.iloc[i].values,\n",
        "        predict_fn=lgb_model.predict_proba,\n",
        "        num_features=len(feature_names)\n",
        "    )\n",
        "    exp_map = exp.as_map()\n",
        "    pred_class = y_pred[sample_indices[i]]\n",
        "\n",
        "    if pred_class in exp_map:\n",
        "        for feature_idx, importance in exp_map[pred_class]:\n",
        "            feature_importances[feature_idx] += abs(importance)\n",
        "feature_importances /= len(X_sample)\n",
        "lime_df = pd.DataFrame({\n",
        "    'Feature': feature_names,\n",
        "    'MeanAbsLIME': feature_importances\n",
        "}).sort_values(by='MeanAbsLIME', ascending=False)\n",
        "\n",
        "print(\"\\nLightGBM Aggregated LIME Feature Importance:\")\n",
        "print(lime_df)\n"
      ],
      "metadata": {
        "colab": {
          "base_uri": "https://localhost:8080/"
        },
        "outputId": "a44621df-064a-427d-9fe5-9c75cb12ae12",
        "id": "Q_uMyLDYRKQN"
      },
      "execution_count": null,
      "outputs": [
        {
          "output_type": "stream",
          "name": "stdout",
          "text": [
            "\n",
            "LightGBM Aggregated LIME Feature Importance:\n",
            "                                  Feature  MeanAbsLIME\n",
            "0                                    Type     0.061611\n",
            "6                            ReviewStatus     0.036512\n",
            "7                        NumberSubmitters     0.034546\n",
            "9  SCVsForAggregateGermlineClassification     0.032726\n",
            "5                             Cytogenetic     0.002253\n",
            "8                             PositionVCF     0.002005\n",
            "4                              Chromosome     0.001711\n",
            "2                                Assembly     0.001522\n",
            "3                     ChromosomeAccession     0.001375\n",
            "1                              GeneSymbol     0.001335\n"
          ]
        }
      ]
    },
    {
      "cell_type": "markdown",
      "source": [
        "FSI"
      ],
      "metadata": {
        "id": "fSGENows7ggA"
      }
    },
    {
      "cell_type": "code",
      "source": [],
      "metadata": {
        "id": "3LgQJGPY7f3A"
      },
      "execution_count": null,
      "outputs": []
    },
    {
      "cell_type": "markdown",
      "source": [
        "# **Linear Model**"
      ],
      "metadata": {
        "id": "sb5FDlO8Ve-9"
      }
    },
    {
      "cell_type": "markdown",
      "source": [
        "# Logistic Regression"
      ],
      "metadata": {
        "id": "iYvDrZsEVYP2"
      }
    },
    {
      "cell_type": "code",
      "source": [
        "lr_model = LogisticRegression(max_iter=200, random_state=42)\n",
        "lr_model.fit(X_train, y_train)\n",
        "y_pred_lr = lr_model.predict(X_test)\n",
        "print(\"=== LogisticRegression Classification Report ===\")\n",
        "print(classification_report(y_test, y_pred_lr))"
      ],
      "metadata": {
        "colab": {
          "base_uri": "https://localhost:8080/"
        },
        "id": "zGWN8RAX_iiF",
        "outputId": "11144bb2-9b08-4527-9696-3443da6d762c"
      },
      "execution_count": null,
      "outputs": [
        {
          "output_type": "stream",
          "name": "stdout",
          "text": [
            "=== LogisticRegression Classification Report ===\n",
            "              precision    recall  f1-score   support\n",
            "\n",
            "           0       0.34      0.44      0.38      2000\n",
            "           1       0.30      0.56      0.39      2000\n",
            "           2       0.26      0.15      0.19      2000\n",
            "           3       0.20      0.07      0.10      2000\n",
            "\n",
            "    accuracy                           0.30      8000\n",
            "   macro avg       0.28      0.30      0.27      8000\n",
            "weighted avg       0.28      0.30      0.27      8000\n",
            "\n"
          ]
        }
      ]
    },
    {
      "cell_type": "markdown",
      "source": [
        "SVM"
      ],
      "metadata": {
        "id": "fAUp_Io-EV18"
      }
    },
    {
      "cell_type": "code",
      "source": [
        "model_linear_svc = LinearSVC()\n",
        "model_linear_svc.fit(X_train, y_train)\n",
        "y_pred_svc = model_linear_svc.predict(X_test)\n",
        "print(\"=== SVM Classification Report ===\")\n",
        "print(classification_report(y_test, y_pred_svc))"
      ],
      "metadata": {
        "colab": {
          "base_uri": "https://localhost:8080/"
        },
        "id": "xyJaQwGIwzB7",
        "outputId": "51e5861c-f4eb-404b-c24a-506ae73aa0a6"
      },
      "execution_count": null,
      "outputs": [
        {
          "output_type": "stream",
          "name": "stdout",
          "text": [
            "=== SVM Classification Report ===\n",
            "              precision    recall  f1-score   support\n",
            "\n",
            "           0       0.34      0.36      0.35      2000\n",
            "           1       0.28      0.73      0.40      2000\n",
            "           2       0.28      0.09      0.13      2000\n",
            "           3       0.00      0.00      0.00      2000\n",
            "\n",
            "    accuracy                           0.30      8000\n",
            "   macro avg       0.23      0.30      0.22      8000\n",
            "weighted avg       0.23      0.30      0.22      8000\n",
            "\n"
          ]
        }
      ]
    },
    {
      "cell_type": "markdown",
      "source": [
        "Gaussian NB"
      ],
      "metadata": {
        "id": "Pn3lT0vHEPqd"
      }
    },
    {
      "cell_type": "code",
      "source": [
        "nb_model = GaussianNB()\n",
        "nb_model.fit(X_train, y_train)\n",
        "y_pred_nb = nb_model.predict(X_test)\n",
        "print(\"=== Naive Bayes Classification Report ===\")\n",
        "print(classification_report(y_test, y_pred_nb))"
      ],
      "metadata": {
        "colab": {
          "base_uri": "https://localhost:8080/"
        },
        "id": "D9BjKE3m6MFn",
        "outputId": "02406711-c9d4-4753-c508-640316711c60"
      },
      "execution_count": null,
      "outputs": [
        {
          "output_type": "stream",
          "name": "stdout",
          "text": [
            "=== Naive Bayes Classification Report ===\n",
            "              precision    recall  f1-score   support\n",
            "\n",
            "           0       0.40      0.77      0.53      2000\n",
            "           1       0.37      0.64      0.47      2000\n",
            "           2       0.41      0.13      0.19      2000\n",
            "           3       0.47      0.02      0.03      2000\n",
            "\n",
            "    accuracy                           0.39      8000\n",
            "   macro avg       0.41      0.39      0.31      8000\n",
            "weighted avg       0.41      0.39      0.31      8000\n",
            "\n"
          ]
        }
      ]
    },
    {
      "cell_type": "markdown",
      "source": [
        "CLUSTERING"
      ],
      "metadata": {
        "id": "N5XUUJb7EgP6"
      }
    },
    {
      "cell_type": "markdown",
      "source": [
        "KNN"
      ],
      "metadata": {
        "id": "WOd_j2Kk4QUA"
      }
    },
    {
      "cell_type": "code",
      "source": [
        "model_knn = KNeighborsClassifier(n_neighbors=5)\n",
        "model_knn.fit(X_train, y_train)\n",
        "y_pred = model_knn.predict(X_test)\n",
        "print(\"=== KNN Classification Report ===\")\n",
        "print(classification_report(y_test, y_pred))"
      ],
      "metadata": {
        "colab": {
          "base_uri": "https://localhost:8080/"
        },
        "id": "4rvsmWEA4PwS",
        "outputId": "7815a8f3-af0c-44e5-eb15-797276dbd355"
      },
      "execution_count": null,
      "outputs": [
        {
          "output_type": "stream",
          "name": "stdout",
          "text": [
            "=== KNN Classification Report ===\n",
            "              precision    recall  f1-score   support\n",
            "\n",
            "           0       0.38      0.49      0.43      2000\n",
            "           1       0.33      0.35      0.34      2000\n",
            "           2       0.35      0.31      0.33      2000\n",
            "           3       0.44      0.34      0.38      2000\n",
            "\n",
            "    accuracy                           0.37      8000\n",
            "   macro avg       0.38      0.37      0.37      8000\n",
            "weighted avg       0.38      0.37      0.37      8000\n",
            "\n"
          ]
        }
      ]
    },
    {
      "cell_type": "markdown",
      "source": [
        "Neural Network"
      ],
      "metadata": {
        "id": "k57an5pk4Sju"
      }
    },
    {
      "cell_type": "code",
      "source": [
        "mlp_model = MLPClassifier(hidden_layer_sizes=(50,50), max_iter=500, random_state=42)\n",
        "mlp_model.fit(X_train, y_train)\n",
        "y_pred_mlp = mlp_model.predict(X_test)\n",
        "print(\"=== Neural Network Classification Report ===\")\n",
        "print(classification_report(y_test, y_pred_mlp))"
      ],
      "metadata": {
        "colab": {
          "base_uri": "https://localhost:8080/"
        },
        "id": "z7tOYxB76Wcy",
        "outputId": "7abd900f-a50e-4b6b-bdac-0ec5f3397862"
      },
      "execution_count": null,
      "outputs": [
        {
          "output_type": "stream",
          "name": "stdout",
          "text": [
            "=== Neural Network Classification Report ===\n",
            "              precision    recall  f1-score   support\n",
            "\n",
            "           0       0.77      0.01      0.01      2000\n",
            "           1       0.26      0.99      0.41      2000\n",
            "           2       0.05      0.00      0.00      2000\n",
            "           3       0.58      0.10      0.17      2000\n",
            "\n",
            "    accuracy                           0.27      8000\n",
            "   macro avg       0.42      0.27      0.15      8000\n",
            "weighted avg       0.42      0.27      0.15      8000\n",
            "\n"
          ]
        }
      ]
    },
    {
      "cell_type": "code",
      "source": [
        "import pandas as pd\n",
        "features = [\n",
        "    'SCVsForAggregateGermlineClassification', 'Type', 'ReviewStatus', 'NumberSubmitters',\n",
        "    'GeneSymbol', 'PositionVCF', 'Cytogenetic', 'ChromosomeAccession',\n",
        "    'Chromosome', 'Assembly'\n",
        "]\n",
        "\n",
        "importance_df = pd.DataFrame({'Feature': features})\n",
        "\n",
        "importance_df['XGB_BuiltIn'] = [5660, 809, 680, 920, 3215, 2790, 1833, 1403, 443, 346]\n",
        "importance_df['XGB_Permutation'] = [0.3688, 0.0838, 0.0450, 0.0388, 0.0156, 0.0063, 0.0019, 0.0019, 0.0069, -0.0012]\n",
        "importance_df['XGB_SHAP'] = [1.029548, 0.356982, 0.167636, 0.167442, 0.136111, 0.118492, 0.081294, 0.064758, 0.035060, 0.012339]\n",
        "importance_df['XGB_LIME'] = [0.013860, 0.032947, 0.020556, 0.014891, 0.003407, 0.003428, 0.001734, 0.002304, 0.001853, 0.001434]\n",
        "\n",
        "importance_df['RF_BuiltIn'] = [0.3887, 0.3326, 0.1354, 0.0839, 0.0156, 0.0245, 0.0095, 0.0046, 0.0049, 0.0004]\n",
        "importance_df['RF_Permutation'] = [0.1954, 0.1252, 0.0301, 0.0134, 0.0004, 0.0033, -0.0001, -0.0008, 0.0029, 0.0007]\n",
        "importance_df['RF_SHAP'] = [0.062160, 0.061355, 0.026338, 0.021363, 0.002214, 0.004544, 0.001701, 0.001413, 0.001659, 0.000094]\n",
        "importance_df['RF_LIME'] = [0.028414, 0.070171, 0.018582, 0.024212, 0.000838, 0.000526, 0.000740, 0.000617, 0.000755, 0.000550]\n",
        "\n",
        "importance_df['DT_BuiltIn'] = [0.738355, 0.143057, 0.036338, 0.017626, 0.025798, 0.017562, 0.011823, 0.006282, 0.002721, 0.000438]\n",
        "importance_df['DT_Permutation'] = [0.3875, 0.1083, 0.0473, 0.0161, 0.0057, 0.0114, 0.0029, 0.0018, 0.0016, 0.0000]\n",
        "importance_df['DT_SHAP'] = [0.186873, 0.058097, 0.024143, 0.015921, 0.010895, 0.007699, 0.005069, 0.003898, 0.001254, 0.000503]\n",
        "importance_df['DT_LIME'] = [0.040176, 0.068564, 0.005257, 0.015922, 0.001749, 0.002051, 0.001797, 0.002172, 0.002113, 0.001623]\n",
        "\n",
        "importance_df['CAT_BuiltIn'] = [52.594126, 12.707558, 6.685362, 3.438795, 8.075710, 6.888914, 4.017003, 2.946121, 1.825251, 0.821159]\n",
        "importance_df['CAT_Permutation'] = [0.3506, 0.0883, 0.0321, 0.0221, 0.0149, 0.0166, 0.0031, 0.0042, -0.0014, -0.0005]\n",
        "importance_df['CAT_SHAP'] = [0.743481, 0.361920, 0.173352, 0.141814, 0.108341, 0.095031, 0.053252, 0.048312, 0.035662, 0.021040]\n",
        "importance_df['CAT_LIME'] = [0.032158, 0.068254, 0.038220, 0.036279, 0.001942, 0.002409, 0.002072, 0.002180, 0.002463, 0.002435]\n",
        "\n",
        "importance_df['LGBM_BuiltIn'] = [5012, 434, 529, 541, 1971, 1529, 1006, 587, 279, 112]\n",
        "importance_df['LGBM_Permutation'] = [0.3829, 0.0905, 0.0387, 0.0373, 0.0138, 0.0109, -0.0006, 0.0032, -0.0059, -0.0006]\n",
        "importance_df['LGBM_SHAP'] = [0.829870, 0.247587, 0.136750, 0.154634, 0.092535, 0.079739, 0.053477, 0.039232, 0.019590, 0.004310]\n",
        "importance_df['LGBM_LIME'] = [0.032726, 0.061611, 0.036512, 0.034546, 0.001335, 0.002005, 0.002253, 0.001375, 0.001711, 0.001522]\n",
        "\n",
        "nulls = importance_df.isnull().sum()\n",
        "\n",
        "print(\"\\n🧾 Nulls per column:\")\n",
        "print(nulls)\n",
        "\n",
        "print(\"\\n📊 Full Feature Importance Matrix:\")\n",
        "print(importance_df.to_string(index=False))"
      ],
      "metadata": {
        "colab": {
          "base_uri": "https://localhost:8080/"
        },
        "id": "1YWR40Cm4Lbj",
        "outputId": "41796b2e-70ce-4ab9-8143-dd1a0f40a552"
      },
      "execution_count": null,
      "outputs": [
        {
          "output_type": "stream",
          "name": "stdout",
          "text": [
            "\n",
            "🧾 Nulls per column:\n",
            "Feature             0\n",
            "XGB_BuiltIn         0\n",
            "XGB_Permutation     0\n",
            "XGB_SHAP            0\n",
            "XGB_LIME            0\n",
            "RF_BuiltIn          0\n",
            "RF_Permutation      0\n",
            "RF_SHAP             0\n",
            "RF_LIME             0\n",
            "DT_BuiltIn          0\n",
            "DT_Permutation      0\n",
            "DT_SHAP             0\n",
            "DT_LIME             0\n",
            "CAT_BuiltIn         0\n",
            "CAT_Permutation     0\n",
            "CAT_SHAP            0\n",
            "CAT_LIME            0\n",
            "LGBM_BuiltIn        0\n",
            "LGBM_Permutation    0\n",
            "LGBM_SHAP           0\n",
            "LGBM_LIME           0\n",
            "dtype: int64\n",
            "\n",
            "📊 Full Feature Importance Matrix:\n",
            "                               Feature  XGB_BuiltIn  XGB_Permutation  XGB_SHAP  XGB_LIME  RF_BuiltIn  RF_Permutation  RF_SHAP  RF_LIME  DT_BuiltIn  DT_Permutation  DT_SHAP  DT_LIME  CAT_BuiltIn  CAT_Permutation  CAT_SHAP  CAT_LIME  LGBM_BuiltIn  LGBM_Permutation  LGBM_SHAP  LGBM_LIME\n",
            "SCVsForAggregateGermlineClassification         5660           0.3688  1.029548  0.013860      0.3887          0.1954 0.062160 0.028414    0.738355          0.3875 0.186873 0.040176    52.594126           0.3506  0.743481  0.032158          5012            0.3829   0.829870   0.032726\n",
            "                                  Type          809           0.0838  0.356982  0.032947      0.3326          0.1252 0.061355 0.070171    0.143057          0.1083 0.058097 0.068564    12.707558           0.0883  0.361920  0.068254           434            0.0905   0.247587   0.061611\n",
            "                          ReviewStatus          680           0.0450  0.167636  0.020556      0.1354          0.0301 0.026338 0.018582    0.036338          0.0473 0.024143 0.005257     6.685362           0.0321  0.173352  0.038220           529            0.0387   0.136750   0.036512\n",
            "                      NumberSubmitters          920           0.0388  0.167442  0.014891      0.0839          0.0134 0.021363 0.024212    0.017626          0.0161 0.015921 0.015922     3.438795           0.0221  0.141814  0.036279           541            0.0373   0.154634   0.034546\n",
            "                            GeneSymbol         3215           0.0156  0.136111  0.003407      0.0156          0.0004 0.002214 0.000838    0.025798          0.0057 0.010895 0.001749     8.075710           0.0149  0.108341  0.001942          1971            0.0138   0.092535   0.001335\n",
            "                           PositionVCF         2790           0.0063  0.118492  0.003428      0.0245          0.0033 0.004544 0.000526    0.017562          0.0114 0.007699 0.002051     6.888914           0.0166  0.095031  0.002409          1529            0.0109   0.079739   0.002005\n",
            "                           Cytogenetic         1833           0.0019  0.081294  0.001734      0.0095         -0.0001 0.001701 0.000740    0.011823          0.0029 0.005069 0.001797     4.017003           0.0031  0.053252  0.002072          1006           -0.0006   0.053477   0.002253\n",
            "                   ChromosomeAccession         1403           0.0019  0.064758  0.002304      0.0046         -0.0008 0.001413 0.000617    0.006282          0.0018 0.003898 0.002172     2.946121           0.0042  0.048312  0.002180           587            0.0032   0.039232   0.001375\n",
            "                            Chromosome          443           0.0069  0.035060  0.001853      0.0049          0.0029 0.001659 0.000755    0.002721          0.0016 0.001254 0.002113     1.825251          -0.0014  0.035662  0.002463           279           -0.0059   0.019590   0.001711\n",
            "                              Assembly          346          -0.0012  0.012339  0.001434      0.0004          0.0007 0.000094 0.000550    0.000438          0.0000 0.000503 0.001623     0.821159          -0.0005  0.021040  0.002435           112           -0.0006   0.004310   0.001522\n"
          ]
        }
      ]
    },
    {
      "cell_type": "code",
      "source": [
        "importance_df['FSI_Raw'] = importance_df.drop(columns=['Feature']).std(axis=1)\n",
        "\n",
        "print(\"\\n📊 FSI Before Normalization (FSI_Raw):\")\n",
        "for feature, score in zip(importance_df['Feature'], importance_df['FSI_Raw']):\n",
        "    print(f\"{feature}: {score:.6f}\")"
      ],
      "metadata": {
        "colab": {
          "base_uri": "https://localhost:8080/"
        },
        "id": "YKL0PUvy5NhK",
        "outputId": "3a49fa6f-45a8-4d73-9418-311bc3b0c994"
      },
      "execution_count": null,
      "outputs": [
        {
          "output_type": "stream",
          "name": "stdout",
          "text": [
            "\n",
            "📊 FSI Before Normalization (FSI_Raw):\n",
            "SCVsForAggregateGermlineClassification: 1587.187237\n",
            "Type: 193.520273\n",
            "ReviewStatus: 180.976658\n",
            "NumberSubmitters: 224.909100\n",
            "GeneSymbol: 794.401018\n",
            "PositionVCF: 671.146782\n",
            "Cytogenetic: 441.085109\n",
            "ChromosomeAccession: 322.060545\n",
            "Chromosome: 110.239328\n",
            "Assembly: 77.295475\n"
          ]
        }
      ]
    },
    {
      "cell_type": "code",
      "source": [
        "normalized_df = importance_df.drop(columns=['Feature']).copy()\n",
        "normalized_df = (normalized_df - normalized_df.min()) / (normalized_df.max() - normalized_df.min())\n",
        "importance_df['FSI_Normalized'] = normalized_df.std(axis=1)\n",
        "\n",
        "print(\"\\n📊 FSI After Normalization (FSI_Normalized):\")\n",
        "for feature, score in zip(importance_df['Feature'], importance_df['FSI_Normalized']):\n",
        "    print(f\"{feature}: {score:.6f}\")"
      ],
      "metadata": {
        "colab": {
          "base_uri": "https://localhost:8080/"
        },
        "id": "_KYn9ngP5SH9",
        "outputId": "a5e19256-acc2-49d7-e578-171e7580750b"
      },
      "execution_count": null,
      "outputs": [
        {
          "output_type": "stream",
          "name": "stdout",
          "text": [
            "\n",
            "📊 FSI After Normalization (FSI_Normalized):\n",
            "SCVsForAggregateGermlineClassification: 0.234148\n",
            "Type: 0.373229\n",
            "ReviewStatus: 0.184866\n",
            "NumberSubmitters: 0.160848\n",
            "GeneSymbol: 0.167021\n",
            "PositionVCF: 0.134554\n",
            "Cytogenetic: 0.085152\n",
            "ChromosomeAccession: 0.055930\n",
            "Chromosome: 0.009320\n",
            "Assembly: 0.003526\n"
          ]
        }
      ]
    },
    {
      "cell_type": "code",
      "source": [
        "log_df = importance_df.drop(columns=['Feature']).applymap(lambda x: np.log1p(max(x, 0)))\n",
        "log_df_norm = (log_df - log_df.min()) / (log_df.max() - log_df.min())\n",
        "importance_df['FSI_LogNorm'] = log_df_norm.std(axis=1)\n",
        "\n",
        "print(\"\\n📊 FSI After Log + Normalization (FSI_LogNorm):\")\n",
        "for feature, score in zip(importance_df['Feature'], importance_df['FSI_LogNorm']):\n",
        "    print(f\"{feature}: {score:.6f}\")"
      ],
      "metadata": {
        "colab": {
          "base_uri": "https://localhost:8080/"
        },
        "id": "ZHbqa5Te5e3e",
        "outputId": "37495f78-0caf-4fcf-f202-557b86527ad8"
      },
      "execution_count": null,
      "outputs": [
        {
          "output_type": "stream",
          "name": "stdout",
          "text": [
            "\n",
            "📊 FSI After Log + Normalization (FSI_LogNorm):\n",
            "SCVsForAggregateGermlineClassification: 0.360968\n",
            "Type: 0.344303\n",
            "ReviewStatus: 0.218718\n",
            "NumberSubmitters: 0.161447\n",
            "GeneSymbol: 0.271635\n",
            "PositionVCF: 0.243050\n",
            "Cytogenetic: 0.195375\n",
            "ChromosomeAccession: 0.153057\n",
            "Chromosome: 0.053644\n",
            "Assembly: 0.007603\n"
          ]
        }
      ]
    },
    {
      "cell_type": "code",
      "source": [
        "log_weighted_df = importance_df.drop(columns=['Feature']).copy()\n",
        "for col in log_weighted_df.columns:\n",
        "    log_weighted_df[col] = np.log1p(np.maximum(log_weighted_df[col], 0))\n",
        "    log_weighted_df[col] = (log_weighted_df[col] - log_weighted_df[col].min()) / (log_weighted_df[col].max() - log_weighted_df[col].min())\n",
        "\n",
        "importance_df['FSI_LogWeighted'] = log_weighted_df.std(axis=1)\n",
        "\n",
        "print(\"\\n📊 FSI After Log Weight + Individual Normalization (FSI_LogWeighted):\")\n",
        "for feature, score in zip(importance_df['Feature'], importance_df['FSI_LogWeighted']):\n",
        "    print(f\"{feature}: {score:.6f}\")"
      ],
      "metadata": {
        "colab": {
          "base_uri": "https://localhost:8080/"
        },
        "id": "ksFRAvq95pCB",
        "outputId": "606ddc5a-9ebd-4e63-c781-be4d66d8008f"
      },
      "execution_count": null,
      "outputs": [
        {
          "output_type": "stream",
          "name": "stdout",
          "text": [
            "\n",
            "📊 FSI After Log Weight + Individual Normalization (FSI_LogWeighted):\n",
            "SCVsForAggregateGermlineClassification: 0.357326\n",
            "Type: 0.343905\n",
            "ReviewStatus: 0.222768\n",
            "NumberSubmitters: 0.162913\n",
            "GeneSymbol: 0.288152\n",
            "PositionVCF: 0.258216\n",
            "Cytogenetic: 0.209873\n",
            "ChromosomeAccession: 0.164529\n",
            "Chromosome: 0.056824\n",
            "Assembly: 0.007472\n"
          ]
        }
      ]
    },
    {
      "cell_type": "code",
      "source": [
        "methods = ['BuiltIn', 'Permutation', 'SHAP', 'LIME']\n",
        "for method in methods:\n",
        "    cols = [col for col in importance_df.columns if method in col]\n",
        "    method_df_norm = importance_df[cols].copy()\n",
        "    for col in cols:\n",
        "        min_val = method_df_norm[col].min()\n",
        "        max_val = method_df_norm[col].max()\n",
        "        if max_val != min_val:\n",
        "            method_df_norm[col] = (method_df_norm[col] - min_val) / (max_val - min_val)\n",
        "        else:\n",
        "            method_df_norm[col] = 0\n",
        "    importance_df[f'FSI_{method}'] = method_df_norm.std(axis=1)\n",
        "    print(f\"\\n📊 FSI for {method} Importance (FSI_{method}):\")\n",
        "    for feature, score in zip(importance_df['Feature'], importance_df[f'FSI_{method}']):\n",
        "        print(f\"{feature}: {score:.6f}\")"
      ],
      "metadata": {
        "colab": {
          "base_uri": "https://localhost:8080/"
        },
        "id": "0wrhLjFa51KH",
        "outputId": "4aaa615a-6bd7-4193-849a-c366acd5aacb"
      },
      "execution_count": null,
      "outputs": [
        {
          "output_type": "stream",
          "name": "stdout",
          "text": [
            "\n",
            "📊 FSI for BuiltIn Importance (FSI_BuiltIn):\n",
            "SCVsForAggregateGermlineClassification: 0.408248\n",
            "Type: 0.412008\n",
            "ReviewStatus: 0.149432\n",
            "NumberSubmitters: 0.084497\n",
            "GeneSymbol: 0.275262\n",
            "PositionVCF: 0.221343\n",
            "Cytogenetic: 0.142089\n",
            "ChromosomeAccession: 0.100818\n",
            "Chromosome: 0.012527\n",
            "Assembly: 0.000000\n",
            "\n",
            "📊 FSI for Permutation Importance (FSI_Permutation):\n",
            "SCVsForAggregateGermlineClassification: 0.408248\n",
            "Type: 0.314835\n",
            "ReviewStatus: 0.020339\n",
            "NumberSubmitters: 0.044665\n",
            "GeneSymbol: 0.039358\n",
            "PositionVCF: 0.022273\n",
            "Cytogenetic: 0.006925\n",
            "ChromosomeAccession: 0.019272\n",
            "Chromosome: 0.023093\n",
            "Assembly: 0.012837\n",
            "\n",
            "📊 FSI for SHAP Importance (FSI_SHAP):\n",
            "SCVsForAggregateGermlineClassification: 0.408248\n",
            "Type: 0.336376\n",
            "ReviewStatus: 0.134396\n",
            "NumberSubmitters: 0.103640\n",
            "GeneSymbol: 0.041520\n",
            "PositionVCF: 0.024954\n",
            "Cytogenetic: 0.019632\n",
            "ChromosomeAccession: 0.013945\n",
            "Chromosome: 0.008452\n",
            "Assembly: 0.000000\n",
            "\n",
            "📊 FSI for LIME Importance (FSI_LIME):\n",
            "SCVsForAggregateGermlineClassification: 0.092381\n",
            "Type: 0.408248\n",
            "ReviewStatus: 0.324590\n",
            "NumberSubmitters: 0.137785\n",
            "GeneSymbol: 0.047099\n",
            "PositionVCF: 0.042967\n",
            "Cytogenetic: 0.008714\n",
            "ChromosomeAccession: 0.018390\n",
            "Chromosome: 0.004432\n",
            "Assembly: 0.005343\n"
          ]
        }
      ]
    },
    {
      "cell_type": "code",
      "source": [
        "import matplotlib.pyplot as plt\n",
        "fsi_scores = {\n",
        "    'SCVsForAggregateGermlineClassification': 0.357326,\n",
        "    'Type': 0.343905,\n",
        "    'ReviewStatus': 0.222768,\n",
        "    'NumberSubmitters': 0.162913,\n",
        "    'GeneSymbol': 0.288152,\n",
        "    'PositionVCF': 0.258216,\n",
        "    'Cytogenetic': 0.209873,\n",
        "    'ChromosomeAccession': 0.164529,\n",
        "    'Chromosome': 0.056824,\n",
        "    'Assembly': 0.007472\n",
        "}\n",
        "\n",
        "# Sort by stability (lowest FSI first)\n",
        "sorted_fsi = dict(sorted(fsi_scores.items(), key=lambda item: item[1]))\n",
        "\n",
        "# Plot\n",
        "plt.figure(figsize=(10, 6))\n",
        "plt.barh(list(sorted_fsi.keys()), list(sorted_fsi.values()), color='mediumslateblue')\n",
        "plt.xlabel('FSI_LogWeighted')\n",
        "plt.title('Feature Stability Index (Log Weighted Normalization)')\n",
        "plt.gca().invert_yaxis()\n",
        "plt.grid(axis='x', linestyle='--', alpha=0.5)\n",
        "plt.tight_layout()\n",
        "plt.show()"
      ],
      "metadata": {
        "colab": {
          "base_uri": "https://localhost:8080/",
          "height": 381
        },
        "id": "yOB6U5xp7f7_",
        "outputId": "1323cfb8-4606-412b-dc3d-50eeacfe4ae0"
      },
      "execution_count": null,
      "outputs": [
        {
          "output_type": "display_data",
          "data": {
            "text/plain": [
              "<Figure size 1000x600 with 1 Axes>"
            ],
            "image/png": "[encoded data removed]"
          },
          "metadata": {}
        }
      ]
    },
    {
      "cell_type": "code",
      "source": [
        "from sklearn.model_selection import StratifiedKFold\n",
        "import numpy as np\n",
        "import pandas as pd\n",
        "\n",
        "# Number of splits\n",
        "n_splits = 5\n",
        "skf = StratifiedKFold(n_splits=n_splits, shuffle=True, random_state=42)\n",
        "\n",
        "# Store FSI results per split\n",
        "fsi_records = []"
      ],
      "metadata": {
        "id": "jP4dfhf9FCV8"
      },
      "execution_count": null,
      "outputs": []
    },
    {
      "cell_type": "code",
      "source": [
        "for split_num, (train_idx, test_idx) in enumerate(skf.split(X, y_encoded)):\n",
        "    X_train, X_test = X.iloc[train_idx], X.iloc[test_idx]\n",
        "    y_train, y_test = y_encoded[train_idx], y_encoded[test_idx]\n",
        "    log_weighted_df = importance_df.drop(columns=['Feature']).copy()\n",
        "    for col in log_weighted_df.columns:\n",
        "        log_weighted_df[col] = np.log1p(np.maximum(log_weighted_df[col], 0))\n",
        "        log_weighted_df[col] = (log_weighted_df[col] - log_weighted_df[col].min()) / (log_weighted_df[col].max() - log_weighted_df[col].min())\n",
        "    importance_df['FSI_LogWeighted'] = log_weighted_df.std(axis=1)\n",
        "    importance_df['Split'] = split_num\n",
        "    fsi_records.append(importance_df[['Feature', 'FSI_LogWeighted', 'Split']].copy())"
      ],
      "metadata": {
        "id": "l572qK4DFDVB"
      },
      "execution_count": null,
      "outputs": []
    },
    {
      "cell_type": "code",
      "source": [
        "# Combine all splits\n",
        "fsi_all = pd.concat(fsi_records)\n",
        "\n",
        "# Compute mean and std of FSI per feature\n",
        "fsi_summary = fsi_all.groupby('Feature')['FSI_LogWeighted'].agg(['mean', 'std']).reset_index()\n",
        "fsi_summary.columns = ['Feature', 'FSI_Mean', 'FSI_Std']\n",
        "\n",
        "print(\"\\n📊 Bootstrapped FSI Summary (Mean ± Std):\")\n",
        "for _, row in fsi_summary.iterrows():\n",
        "    print(f\"{row['Feature']}: {row['FSI_Mean']:.6f} ± {row['FSI_Std']:.6f}\")"
      ],
      "metadata": {
        "colab": {
          "base_uri": "https://localhost:8080/"
        },
        "id": "B3kYjXYFFK4W",
        "outputId": "66fecb86-41e3-4a40-c1bb-c34762cfe821"
      },
      "execution_count": null,
      "outputs": [
        {
          "output_type": "stream",
          "name": "stdout",
          "text": [
            "\n",
            "📊 Bootstrapped FSI Summary (Mean ± Std):\n",
            "Assembly: 0.003610 ± 0.000000\n",
            "Chromosome: 0.064074 ± 0.002088\n",
            "ChromosomeAccession: 0.185771 ± 0.004917\n",
            "Cytogenetic: 0.235808 ± 0.005752\n",
            "GeneSymbol: 0.315498 ± 0.006001\n",
            "NumberSubmitters: 0.157689 ± 0.001040\n",
            "PositionVCF: 0.284445 ± 0.005767\n",
            "ReviewStatus: 0.214807 ± 0.001382\n",
            "SCVsForAggregateGermlineClassification: 0.241410 ± 0.000412\n",
            "Type: 0.316671 ± 0.000518\n"
          ]
        }
      ]
    }
  ]
}